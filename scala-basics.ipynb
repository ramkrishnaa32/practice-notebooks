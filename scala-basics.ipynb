{
 "cells": [
  {
   "cell_type": "code",
   "execution_count": 1,
   "id": "ad33efba",
   "metadata": {},
   "outputs": [
    {
     "name": "stdout",
     "output_type": "stream",
     "text": [
      "greater\n"
     ]
    },
    {
     "data": {
      "text/plain": [
       "x = 10\n",
       "result = greater\n"
      ]
     },
     "metadata": {},
     "output_type": "display_data",
     "source": "user"
    },
    {
     "data": {
      "text/plain": [
       "greater"
      ]
     },
     "execution_count": 1,
     "metadata": {},
     "output_type": "execute_result"
    }
   ],
   "source": [
    "val x = 10\n",
    "val result = if (x>7) \"greater\" else \"leeser\"\n",
    "println(result)"
   ]
  },
  {
   "cell_type": "code",
   "execution_count": 11,
   "id": "0960ae40",
   "metadata": {},
   "outputs": [
    {
     "name": "stdout",
     "output_type": "stream",
     "text": [
      "'A' in list List(A, B): true\n"
     ]
    },
    {
     "data": {
      "text/plain": [
       "list = List(A, B)\n",
       "isInList = true\n"
      ]
     },
     "metadata": {},
     "output_type": "display_data",
     "source": "user"
    },
    {
     "data": {
      "text/plain": [
       "true"
      ]
     },
     "execution_count": 11,
     "metadata": {},
     "output_type": "execute_result"
    }
   ],
   "source": [
    "val list = List(\"A\", \"B\")\n",
    "  val isInList = list.contains(\"A\")\n",
    "  println(s\"'A' in list $list: $isInList\")"
   ]
  },
  {
   "cell_type": "code",
   "execution_count": 5,
   "id": "111a1f78",
   "metadata": {},
   "outputs": [
    {
     "name": "stdout",
     "output_type": "stream",
     "text": [
      "B+\n"
     ]
    },
    {
     "data": {
      "text/plain": [
       "grade = 72\n",
       "result = B+\n"
      ]
     },
     "metadata": {},
     "output_type": "display_data",
     "source": "user"
    },
    {
     "data": {
      "text/plain": [
       "B+"
      ]
     },
     "execution_count": 5,
     "metadata": {},
     "output_type": "execute_result"
    }
   ],
   "source": [
    "val grade = 72\n",
    "val result = if (grade >= 90) \"A+\"\n",
    "             else if (grade >= 80) \"A\"\n",
    "             else if (grade >= 70) \"B+\"\n",
    "             else if (grade >= 60) \"B\"\n",
    "             else if (grade >= 50) \"C+\"\n",
    "             else if (grade >= 40) \"C\"\n",
    "             else \"Fail\"\n",
    "\n",
    "println(result)"
   ]
  },
  {
   "cell_type": "code",
   "execution_count": 7,
   "id": "2a4d706e",
   "metadata": {},
   "outputs": [
    {
     "name": "stdout",
     "output_type": "stream",
     "text": [
      "apple\n",
      "banana\n",
      "grapes\n"
     ]
    },
    {
     "data": {
      "text/plain": [
       "fruits = List(apple, banana, grapes)\n"
      ]
     },
     "metadata": {},
     "output_type": "display_data",
     "source": "user"
    },
    {
     "data": {
      "text/plain": [
       "List(apple, banana, grapes)"
      ]
     },
     "execution_count": 7,
     "metadata": {},
     "output_type": "execute_result"
    }
   ],
   "source": [
    "val fruits = List(\"apple\", \"banana\", \"grapes\")\n",
    "for (fruit <- fruits) println(fruit)"
   ]
  },
  {
   "cell_type": "code",
   "execution_count": 9,
   "id": "0f7fe03b",
   "metadata": {},
   "outputs": [
    {
     "name": "stdout",
     "output_type": "stream",
     "text": [
      "H e l l o   S c a l a   W o r l d ! "
     ]
    },
    {
     "data": {
      "text/plain": [
       "text = Hello Scala World!\n"
      ]
     },
     "metadata": {},
     "output_type": "display_data",
     "source": "user"
    },
    {
     "data": {
      "text/plain": [
       "Hello Scala World!"
      ]
     },
     "execution_count": 9,
     "metadata": {},
     "output_type": "execute_result"
    }
   ],
   "source": [
    "val text = \"Hello Scala World!\"\n",
    "for (char <- text ) print(s\"$char \")"
   ]
  },
  {
   "cell_type": "code",
   "execution_count": 10,
   "id": "2246e54a",
   "metadata": {
    "collapsed": true,
    "jupyter": {
     "outputs_hidden": true
    }
   },
   "outputs": [
    {
     "name": "stdout",
     "output_type": "stream",
     "text": [
      "\n",
      "Characters with index:\n",
      "Index 0: 'H'\n",
      "Index 1: 'e'\n",
      "Index 2: 'l'\n",
      "Index 3: 'l'\n",
      "Index 4: 'o'\n",
      "Index 5: ' '\n",
      "Index 6: 'S'\n",
      "Index 7: 'c'\n",
      "Index 8: 'a'\n",
      "Index 9: 'l'\n",
      "Index 10: 'a'\n",
      "Index 11: ' '\n",
      "Index 12: 'W'\n",
      "Index 13: 'o'\n",
      "Index 14: 'r'\n",
      "Index 15: 'l'\n",
      "Index 16: 'd'\n",
      "Index 17: '!'\n"
     ]
    }
   ],
   "source": [
    "println(\"\\nCharacters with index:\")\n",
    "  for ((char, index) <- text.zipWithIndex) {\n",
    "    println(s\"Index $index: '$char'\")\n",
    "  }"
   ]
  },
  {
   "cell_type": "code",
   "execution_count": 12,
   "id": "e7f15b80",
   "metadata": {},
   "outputs": [
    {
     "data": {
      "text/plain": [
       "appendNValues: (n: Int)List[Int]\n"
      ]
     },
     "metadata": {},
     "output_type": "display_data",
     "source": "user"
    }
   ],
   "source": [
    "def appendNValues(n: Int): List[Int] = {\n",
    "  var list = List[Int]()         // Mutable variable holding an immutable List\n",
    "  for (x <- 1 to n) {\n",
    "    list = list :+ x             // Create new list with element appended\n",
    "  }\n",
    "  list\n",
    "}\n"
   ]
  },
  {
   "cell_type": "code",
   "execution_count": 14,
   "id": "cdb8a589",
   "metadata": {},
   "outputs": [
    {
     "name": "stdout",
     "output_type": "stream",
     "text": [
      "List(1, 2, 3, 4, 5, 6, 7, 8, 9, 10)\n"
     ]
    },
    {
     "data": {
      "text/plain": [
       "li = List(1, 2, 3, 4, 5, 6, 7, 8, 9, 10)\n"
      ]
     },
     "metadata": {},
     "output_type": "display_data",
     "source": "user"
    },
    {
     "data": {
      "text/plain": [
       "List(1, 2, 3, 4, 5, 6, 7, 8, 9, 10)"
      ]
     },
     "execution_count": 14,
     "metadata": {},
     "output_type": "execute_result"
    }
   ],
   "source": [
    "val li = appendNValues(10)\n",
    "println(li)"
   ]
  },
  {
   "cell_type": "code",
   "execution_count": 15,
   "id": "3040460c",
   "metadata": {},
   "outputs": [
    {
     "data": {
      "text/plain": [
       "reverseString: (str: String)String\n"
      ]
     },
     "metadata": {},
     "output_type": "display_data",
     "source": "user"
    }
   ],
   "source": [
    "def reverseString(str: String): String = {\n",
    "  var reversed = \"\"\n",
    "  for (i <- str.length - 1 to 0 by -1) {\n",
    "      println(i, str(i))\n",
    "    reversed += str(i)\n",
    "  }\n",
    "  reversed\n",
    "}"
   ]
  },
  {
   "cell_type": "code",
   "execution_count": 17,
   "id": "7bd9c140",
   "metadata": {},
   "outputs": [
    {
     "name": "stdout",
     "output_type": "stream",
     "text": [
      "(7,d)\n",
      "(6,e)\n",
      "(5,t)\n",
      "(4,i)\n",
      "(3,m)\n",
      "(2,m)\n",
      "(1,o)\n",
      "(0,c)\n"
     ]
    },
    {
     "data": {
      "text/plain": [
       "result = detimmoc\n"
      ]
     },
     "metadata": {},
     "output_type": "display_data",
     "source": "user"
    },
    {
     "data": {
      "text/plain": [
       "detimmoc"
      ]
     },
     "execution_count": 17,
     "metadata": {},
     "output_type": "execute_result"
    }
   ],
   "source": [
    "val result = reverseString(\"commited\")"
   ]
  },
  {
   "cell_type": "code",
   "execution_count": null,
   "id": "89ac980a",
   "metadata": {},
   "outputs": [],
   "source": []
  },
  {
   "cell_type": "code",
   "execution_count": null,
   "id": "abeef37b",
   "metadata": {},
   "outputs": [],
   "source": []
  }
 ],
 "metadata": {
  "kernelspec": {
   "display_name": "Spark 2 - Scala",
   "language": "scala",
   "name": "spark_2_scala"
  },
  "language_info": {
   "codemirror_mode": "text/x-scala",
   "file_extension": ".scala",
   "mimetype": "text/x-scala",
   "name": "scala",
   "pygments_lexer": "scala",
   "version": "2.11.12"
  }
 },
 "nbformat": 4,
 "nbformat_minor": 5
}
