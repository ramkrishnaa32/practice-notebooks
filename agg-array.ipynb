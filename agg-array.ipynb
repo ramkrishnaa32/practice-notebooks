{
 "cells": [
  {
   "cell_type": "code",
   "execution_count": 1,
   "id": "96623bca",
   "metadata": {},
   "outputs": [],
   "source": [
    "from pyspark.sql import SparkSession\n",
    "import getpass\n",
    "username = getpass.getuser()\n",
    "spark = SparkSession. \\\n",
    "builder. \\\n",
    "config('spark.ui.port','0'). \\\n",
    "config(\"spark.sql.warehouse.dir\", f\"/user/{username}/warehouse\"). \\\n",
    "enableHiveSupport(). \\\n",
    "master('yarn'). \\\n",
    "getOrCreate()"
   ]
  },
  {
   "cell_type": "code",
   "execution_count": 9,
   "id": "642ab59f",
   "metadata": {},
   "outputs": [],
   "source": [
    "spark.stop()"
   ]
  },
  {
   "cell_type": "code",
   "execution_count": 2,
   "id": "36eb66b7",
   "metadata": {},
   "outputs": [],
   "source": [
    "orders = spark.read \\\n",
    ".format(\"csv\") \\\n",
    ".option(\"inferSchema\", \"true\") \\\n",
    ".option(\"header\",\"true\") \\\n",
    ".load(\"/public/trendytech/datasets/order_data.csv\")"
   ]
  },
  {
   "cell_type": "code",
   "execution_count": 3,
   "id": "090d5a1c",
   "metadata": {},
   "outputs": [
    {
     "name": "stdout",
     "output_type": "stream",
     "text": [
      "+---------+---------+--------------------+--------+---------------+---------+----------+--------------+\n",
      "|InvoiceNo|StockCode|         Description|Quantity|    InvoiceDate|UnitPrice|CustomerID|       Country|\n",
      "+---------+---------+--------------------+--------+---------------+---------+----------+--------------+\n",
      "|   536378|     null|PACK OF 60 DINOSA...|      24|01-12-2010 9.37|     0.55|     14688|United Kingdom|\n",
      "|   536378|     null|PACK OF 60 PINK P...|      24|01-12-2010 9.37|     0.55|     14688|United Kingdom|\n",
      "|   536378|    84991|60 TEATIME FAIRY ...|      24|01-12-2010 9.37|     0.55|     14688|United Kingdom|\n",
      "|   536378|   84519A|TOMATO CHARLIE+LO...|       6|01-12-2010 9.37|     2.95|     14688|United Kingdom|\n",
      "|   536378|   85183B|CHARLIE & LOLA WA...|      48|01-12-2010 9.37|     1.25|     14688|United Kingdom|\n",
      "+---------+---------+--------------------+--------+---------------+---------+----------+--------------+\n",
      "only showing top 5 rows\n",
      "\n"
     ]
    }
   ],
   "source": [
    "orders.show(5)"
   ]
  },
  {
   "cell_type": "code",
   "execution_count": 10,
   "id": "cdcdb1fd",
   "metadata": {},
   "outputs": [
    {
     "name": "stdout",
     "output_type": "stream",
     "text": [
      "+-----------+----------------+\n",
      "|totalRecord|        avgPrice|\n",
      "+-----------+----------------+\n",
      "|     541782|4.61156532331637|\n",
      "+-----------+----------------+\n",
      "\n"
     ]
    }
   ],
   "source": [
    "from pyspark.sql.functions import *\n",
    "orders.select(count(\"*\").alias(\"totalRecord\"), avg(\"UnitPrice\").alias(\"avgPrice\")).show()"
   ]
  },
  {
   "cell_type": "code",
   "execution_count": 14,
   "id": "db4185a3",
   "metadata": {},
   "outputs": [
    {
     "name": "stdout",
     "output_type": "stream",
     "text": [
      "+-----------+----------------+\n",
      "|totalRecord|        avgPrice|\n",
      "+-----------+----------------+\n",
      "|     541782|4.61156532331637|\n",
      "+-----------+----------------+\n",
      "\n"
     ]
    }
   ],
   "source": [
    "orders.selectExpr(\"count(*) as totalRecord\", \"avg(UnitPrice) as avgPrice\").show()"
   ]
  },
  {
   "cell_type": "code",
   "execution_count": 26,
   "id": "6b5ebe8a",
   "metadata": {},
   "outputs": [
    {
     "name": "stdout",
     "output_type": "stream",
     "text": [
      "+--------------+---------+--------+------------------+\n",
      "|Country       |InvoiceNo|totalQty|invoiceVal        |\n",
      "+--------------+---------+--------+------------------+\n",
      "|United Kingdom|581483   |80995   |168469.6          |\n",
      "|United Kingdom|541431   |74215   |77183.6           |\n",
      "|United Kingdom|574941   |14149   |52940.93999999999 |\n",
      "|United Kingdom|576365   |13956   |50653.909999999996|\n",
      "|United Kingdom|556444   |60      |38970.0           |\n",
      "|United Kingdom|567423   |12572   |31698.159999999996|\n",
      "|Australia     |556917   |15049   |22775.930000000008|\n",
      "|United Kingdom|572209   |1920    |22206.0           |\n",
      "|United Kingdom|567381   |6760    |22104.8           |\n",
      "|Australia     |563614   |12196   |21880.439999999995|\n",
      "+--------------+---------+--------+------------------+\n",
      "only showing top 10 rows\n",
      "\n"
     ]
    }
   ],
   "source": [
    "orders.groupBy(\"Country\", \"InvoiceNo\") \\\n",
    "      .agg(sum(\"Quantity\").alias(\"totalQty\"), sum(expr(\"Quantity * UnitPrice\")).alias(\"invoiceVal\")) \\\n",
    "      .sort(\"invoiceVal\", ascending=False) \\\n",
    "      .show(10, False)"
   ]
  },
  {
   "cell_type": "code",
   "execution_count": 2,
   "id": "ea25c08a",
   "metadata": {},
   "outputs": [],
   "source": [
    "data = [\n",
    "    (1, \"John\", [(\"Math\", 85, \"A\"), (\"Science\", 92, \"A\"), (\"English\", 78, \"B\")]),\n",
    "    (2, \"Emma\", [(\"Math\", 91, \"A\"), (\"Science\", 87, \"B\"), (\"History\", 94, \"A\")]),\n",
    "    (3, \"Alex\", [(\"Physics\", 76, \"C\"), (\"Chemistry\", 82, \"B\")]),\n",
    "    (4, \"Lisa\", [])\n",
    "]"
   ]
  },
  {
   "cell_type": "code",
   "execution_count": 3,
   "id": "cc702586",
   "metadata": {},
   "outputs": [],
   "source": [
    "schema = [\"student_id\", \"name\", \"courses\"]"
   ]
  },
  {
   "cell_type": "code",
   "execution_count": 4,
   "id": "26a9cb6a",
   "metadata": {},
   "outputs": [],
   "source": [
    "df = spark.createDataFrame(data, schema)"
   ]
  },
  {
   "cell_type": "code",
   "execution_count": 7,
   "id": "741bede4",
   "metadata": {},
   "outputs": [
    {
     "name": "stdout",
     "output_type": "stream",
     "text": [
      "+----------+----+---------------------------------------------------+\n",
      "|student_id|name|courses                                            |\n",
      "+----------+----+---------------------------------------------------+\n",
      "|1         |John|[{Math, 85, A}, {Science, 92, A}, {English, 78, B}]|\n",
      "|2         |Emma|[{Math, 91, A}, {Science, 87, B}, {History, 94, A}]|\n",
      "|3         |Alex|[{Physics, 76, C}, {Chemistry, 82, B}]             |\n",
      "|4         |Lisa|[]                                                 |\n",
      "+----------+----+---------------------------------------------------+\n",
      "\n"
     ]
    }
   ],
   "source": [
    "df.show(truncate = False)"
   ]
  },
  {
   "cell_type": "code",
   "execution_count": 10,
   "id": "96d58955",
   "metadata": {},
   "outputs": [],
   "source": [
    "from pyspark.sql.functions import *\n",
    "df_exploded = df.withColumn(\"course_data\", explode(df.courses))"
   ]
  },
  {
   "cell_type": "code",
   "execution_count": 11,
   "id": "af3732ac",
   "metadata": {},
   "outputs": [
    {
     "name": "stdout",
     "output_type": "stream",
     "text": [
      "+----------+----+---------------------------------------------------+------------------+\n",
      "|student_id|name|courses                                            |course_data       |\n",
      "+----------+----+---------------------------------------------------+------------------+\n",
      "|1         |John|[{Math, 85, A}, {Science, 92, A}, {English, 78, B}]|{Math, 85, A}     |\n",
      "|1         |John|[{Math, 85, A}, {Science, 92, A}, {English, 78, B}]|{Science, 92, A}  |\n",
      "|1         |John|[{Math, 85, A}, {Science, 92, A}, {English, 78, B}]|{English, 78, B}  |\n",
      "|2         |Emma|[{Math, 91, A}, {Science, 87, B}, {History, 94, A}]|{Math, 91, A}     |\n",
      "|2         |Emma|[{Math, 91, A}, {Science, 87, B}, {History, 94, A}]|{Science, 87, B}  |\n",
      "|2         |Emma|[{Math, 91, A}, {Science, 87, B}, {History, 94, A}]|{History, 94, A}  |\n",
      "|3         |Alex|[{Physics, 76, C}, {Chemistry, 82, B}]             |{Physics, 76, C}  |\n",
      "|3         |Alex|[{Physics, 76, C}, {Chemistry, 82, B}]             |{Chemistry, 82, B}|\n",
      "+----------+----+---------------------------------------------------+------------------+\n",
      "\n"
     ]
    }
   ],
   "source": [
    "df_exploded.show(truncate = False)"
   ]
  },
  {
   "cell_type": "code",
   "execution_count": 12,
   "id": "9df31870",
   "metadata": {},
   "outputs": [],
   "source": [
    "df_final = df_exploded.select(\n",
    "    \"student_id\", \n",
    "    \"name\",\n",
    "    col(\"course_data._1\").alias(\"subject\"),\n",
    "    col(\"course_data._2\").alias(\"score\"),\n",
    "    col(\"course_data._3\").alias(\"grade\")\n",
    ")"
   ]
  },
  {
   "cell_type": "code",
   "execution_count": 13,
   "id": "b92d58f0",
   "metadata": {},
   "outputs": [
    {
     "name": "stdout",
     "output_type": "stream",
     "text": [
      "+----------+----+---------+-----+-----+\n",
      "|student_id|name|subject  |score|grade|\n",
      "+----------+----+---------+-----+-----+\n",
      "|1         |John|Math     |85   |A    |\n",
      "|1         |John|Science  |92   |A    |\n",
      "|1         |John|English  |78   |B    |\n",
      "|2         |Emma|Math     |91   |A    |\n",
      "|2         |Emma|Science  |87   |B    |\n",
      "|2         |Emma|History  |94   |A    |\n",
      "|3         |Alex|Physics  |76   |C    |\n",
      "|3         |Alex|Chemistry|82   |B    |\n",
      "+----------+----+---------+-----+-----+\n",
      "\n"
     ]
    }
   ],
   "source": [
    "df_final.show(truncate = False)"
   ]
  },
  {
   "cell_type": "code",
   "execution_count": 16,
   "id": "8bf39eef",
   "metadata": {},
   "outputs": [
    {
     "name": "stdout",
     "output_type": "stream",
     "text": [
      "+----------+----+---------------------------------------------------+------------------+\n",
      "|student_id|name|courses                                            |course_data       |\n",
      "+----------+----+---------------------------------------------------+------------------+\n",
      "|1         |John|[{Math, 85, A}, {Science, 92, A}, {English, 78, B}]|{Math, 85, A}     |\n",
      "|1         |John|[{Math, 85, A}, {Science, 92, A}, {English, 78, B}]|{Science, 92, A}  |\n",
      "|1         |John|[{Math, 85, A}, {Science, 92, A}, {English, 78, B}]|{English, 78, B}  |\n",
      "|2         |Emma|[{Math, 91, A}, {Science, 87, B}, {History, 94, A}]|{Math, 91, A}     |\n",
      "|2         |Emma|[{Math, 91, A}, {Science, 87, B}, {History, 94, A}]|{Science, 87, B}  |\n",
      "|2         |Emma|[{Math, 91, A}, {Science, 87, B}, {History, 94, A}]|{History, 94, A}  |\n",
      "|3         |Alex|[{Physics, 76, C}, {Chemistry, 82, B}]             |{Physics, 76, C}  |\n",
      "|3         |Alex|[{Physics, 76, C}, {Chemistry, 82, B}]             |{Chemistry, 82, B}|\n",
      "|4         |Lisa|[]                                                 |null              |\n",
      "+----------+----+---------------------------------------------------+------------------+\n",
      "\n"
     ]
    }
   ],
   "source": [
    "df.withColumn(\"course_data\", explode_outer(df.courses)).show(truncate = False)"
   ]
  },
  {
   "cell_type": "code",
   "execution_count": 20,
   "id": "67fcb564",
   "metadata": {},
   "outputs": [
    {
     "name": "stdout",
     "output_type": "stream",
     "text": [
      "+----------+----+---+------------------+\n",
      "|student_id|name|pos|course_data       |\n",
      "+----------+----+---+------------------+\n",
      "|1         |John|0  |{Math, 85, A}     |\n",
      "|1         |John|1  |{Science, 92, A}  |\n",
      "|1         |John|2  |{English, 78, B}  |\n",
      "|2         |Emma|0  |{Math, 91, A}     |\n",
      "|2         |Emma|1  |{Science, 87, B}  |\n",
      "|2         |Emma|2  |{History, 94, A}  |\n",
      "|3         |Alex|0  |{Physics, 76, C}  |\n",
      "|3         |Alex|1  |{Chemistry, 82, B}|\n",
      "+----------+----+---+------------------+\n",
      "\n"
     ]
    }
   ],
   "source": [
    "df.select(\"student_id\", \"name\", \n",
    "         posexplode(\"courses\").alias(\"pos\", \"course_data\")).show(truncate = False)"
   ]
  },
  {
   "cell_type": "code",
   "execution_count": 21,
   "id": "de571213",
   "metadata": {},
   "outputs": [],
   "source": [
    "data = [\n",
    "    (1, \"Product A\", [1, 2, 3, 5], 10.5),\n",
    "    (2, \"Product B\", [7, 8, 9], 15.2),\n",
    "    (3, \"Product C\", [4, 2], 8.7),\n",
    "    (4, \"Product D\", [], 12.3),  # Empty array\n",
    "    (5, \"Product E\", [10], 9.0)  # Single element array\n",
    "]"
   ]
  },
  {
   "cell_type": "code",
   "execution_count": 22,
   "id": "96f73a15",
   "metadata": {},
   "outputs": [],
   "source": [
    "schema = [\"product_id\", \"name\", \"values\", \"price\"]\n",
    "df = spark.createDataFrame(data, schema)"
   ]
  },
  {
   "cell_type": "code",
   "execution_count": 23,
   "id": "5c9aa5d6",
   "metadata": {},
   "outputs": [
    {
     "name": "stdout",
     "output_type": "stream",
     "text": [
      "+----------+---------+------------+-----+\n",
      "|product_id|name     |values      |price|\n",
      "+----------+---------+------------+-----+\n",
      "|1         |Product A|[1, 2, 3, 5]|10.5 |\n",
      "|2         |Product B|[7, 8, 9]   |15.2 |\n",
      "|3         |Product C|[4, 2]      |8.7  |\n",
      "|4         |Product D|[]          |12.3 |\n",
      "|5         |Product E|[10]        |9.0  |\n",
      "+----------+---------+------------+-----+\n",
      "\n"
     ]
    }
   ],
   "source": [
    "df.show(truncate = False)"
   ]
  },
  {
   "cell_type": "code",
   "execution_count": 24,
   "id": "bbc5fe7b",
   "metadata": {},
   "outputs": [],
   "source": [
    "df_exploded = df.withColumn(\"value\", explode(df.values))"
   ]
  },
  {
   "cell_type": "code",
   "execution_count": 25,
   "id": "6432b5cf",
   "metadata": {},
   "outputs": [
    {
     "name": "stdout",
     "output_type": "stream",
     "text": [
      "+----------+---------+------------+-----+-----+\n",
      "|product_id|name     |values      |price|value|\n",
      "+----------+---------+------------+-----+-----+\n",
      "|1         |Product A|[1, 2, 3, 5]|10.5 |1    |\n",
      "|1         |Product A|[1, 2, 3, 5]|10.5 |2    |\n",
      "|1         |Product A|[1, 2, 3, 5]|10.5 |3    |\n",
      "|1         |Product A|[1, 2, 3, 5]|10.5 |5    |\n",
      "|2         |Product B|[7, 8, 9]   |15.2 |7    |\n",
      "|2         |Product B|[7, 8, 9]   |15.2 |8    |\n",
      "|2         |Product B|[7, 8, 9]   |15.2 |9    |\n",
      "|3         |Product C|[4, 2]      |8.7  |4    |\n",
      "|3         |Product C|[4, 2]      |8.7  |2    |\n",
      "|5         |Product E|[10]        |9.0  |10   |\n",
      "+----------+---------+------------+-----+-----+\n",
      "\n"
     ]
    }
   ],
   "source": [
    "df_exploded.show(truncate = False)"
   ]
  },
  {
   "cell_type": "code",
   "execution_count": 22,
   "id": "22730e20",
   "metadata": {},
   "outputs": [],
   "source": [
    "df = spark.read \\\n",
    ".format(\"csv\") \\\n",
    ".option(\"inferSchema\",\"true\") \\\n",
    ".option(\"header\", \"true\") \\\n",
    ".load(\"/public/trendytech/datasets/windowdatamodified.csv\")"
   ]
  },
  {
   "cell_type": "code",
   "execution_count": 14,
   "id": "ae4c0c28",
   "metadata": {},
   "outputs": [
    {
     "name": "stdout",
     "output_type": "stream",
     "text": [
      "+---------+-------+-----------+-------------+------------+\n",
      "|country  |weeknum|numinvoices|totalquantity|invoicevalue|\n",
      "+---------+-------+-----------+-------------+------------+\n",
      "|Spain    |49     |1          |67           |174.72      |\n",
      "|Germany  |48     |11         |1795         |1600.0      |\n",
      "|Lithuania|48     |3          |622          |1598.06     |\n",
      "|Germany  |49     |12         |1852         |1800.0      |\n",
      "|Bahrain  |51     |1          |54           |205.74      |\n",
      "|Iceland  |49     |1          |319          |711.79      |\n",
      "|India    |51     |5          |95           |300.0       |\n",
      "|Australia|50     |2          |133          |387.95      |\n",
      "|Italy    |49     |1          |-2           |-17.0       |\n",
      "|India    |49     |5          |1280         |3284.1      |\n",
      "+---------+-------+-----------+-------------+------------+\n",
      "only showing top 10 rows\n",
      "\n"
     ]
    }
   ],
   "source": [
    "df.show(10, truncate = False)"
   ]
  },
  {
   "cell_type": "code",
   "execution_count": 15,
   "id": "1900dac8",
   "metadata": {},
   "outputs": [
    {
     "name": "stdout",
     "output_type": "stream",
     "text": [
      "+-------+-------+-----------+-------------+------------+------------------+\n",
      "|country|weeknum|numinvoices|totalquantity|invoicevalue|runningTotal      |\n",
      "+-------+-------+-----------+-------------+------------+------------------+\n",
      "|Sweden |50     |3          |3714         |2646.3      |2646.3            |\n",
      "|Germany|48     |11         |1795         |1600.0      |1600.0            |\n",
      "|Germany|49     |12         |1852         |1800.0      |3400.0            |\n",
      "|Germany|50     |15         |1973         |1800.0      |5200.0            |\n",
      "|Germany|51     |5          |1103         |1600.0      |6800.0            |\n",
      "|France |48     |4          |1299         |500.0       |500.0             |\n",
      "|France |49     |9          |2303         |500.0       |1000.0            |\n",
      "|France |50     |6          |529          |537.32      |1537.3200000000002|\n",
      "|France |51     |5          |847          |500.0       |2037.3200000000002|\n",
      "|Belgium|48     |1          |528          |800.0       |800.0             |\n",
      "+-------+-------+-----------+-------------+------------+------------------+\n",
      "only showing top 10 rows\n",
      "\n"
     ]
    }
   ],
   "source": [
    "# Running Total\n",
    "\n",
    "from pyspark.sql import *\n",
    "from pyspark.sql.functions import *\n",
    "\n",
    "window = Window.partitionBy(\"country\") \\\n",
    "               .orderBy(\"weeknum\") \\\n",
    "               .rowsBetween(Window.unboundedPreceding, Window.currentRow)\n",
    "\n",
    "\n",
    "df_window = df.withColumn(\"runningTotal\", sum(col(\"invoicevalue\").cast(\"double\")).over(window))\n",
    "\n",
    "df_window.show(10, truncate = False)"
   ]
  },
  {
   "cell_type": "code",
   "execution_count": 18,
   "id": "c25d6155",
   "metadata": {},
   "outputs": [
    {
     "name": "stdout",
     "output_type": "stream",
     "text": [
      "+-------+-------+-----------+-------------+------------+----+----------+----------+\n",
      "|country|weeknum|numinvoices|totalquantity|invoicevalue|rank|dense_rank|row_number|\n",
      "+-------+-------+-----------+-------------+------------+----+----------+----------+\n",
      "|Sweden |50     |3          |3714         |2646.3      |1   |1         |1         |\n",
      "|Germany|48     |11         |1795         |1600.0      |1   |1         |1         |\n",
      "|Germany|51     |5          |1103         |1600.0      |1   |1         |2         |\n",
      "|Germany|49     |12         |1852         |1800.0      |3   |2         |3         |\n",
      "|Germany|50     |15         |1973         |1800.0      |3   |2         |4         |\n",
      "|France |51     |5          |847          |500.0       |1   |1         |1         |\n",
      "|France |49     |9          |2303         |500.0       |1   |1         |2         |\n",
      "|France |48     |4          |1299         |500.0       |1   |1         |3         |\n",
      "|France |50     |6          |529          |537.32      |4   |2         |4         |\n",
      "|Belgium|50     |2          |285          |625.16      |1   |1         |1         |\n",
      "+-------+-------+-----------+-------------+------------+----+----------+----------+\n",
      "only showing top 10 rows\n",
      "\n"
     ]
    }
   ],
   "source": [
    "# rank, dence_rank, row_number\n",
    "\n",
    "from pyspark.sql import *\n",
    "from pyspark.sql.functions import *\n",
    "\n",
    "window = Window.partitionBy(\"country\") \\\n",
    "               .orderBy(\"invoicevalue\")\n",
    "\n",
    "\n",
    "df_rank = df.withColumn(\"rank\", rank().over(window)) \\\n",
    "            .withColumn(\"dense_rank\", dense_rank().over(window)) \\\n",
    "            .withColumn(\"row_number\", row_number().over(window))\n",
    "\n",
    "df_rank.show(10, truncate = False)"
   ]
  },
  {
   "cell_type": "code",
   "execution_count": 31,
   "id": "abd45189",
   "metadata": {},
   "outputs": [
    {
     "name": "stdout",
     "output_type": "stream",
     "text": [
      "+-------+-------+-----------+-------------+------------+-------------+---------+------------+\n",
      "|country|weeknum|numinvoices|totalquantity|invoicevalue|previous_week|next_week|invoice_diff|\n",
      "+-------+-------+-----------+-------------+------------+-------------+---------+------------+\n",
      "|Sweden |50     |3          |3714         |2646.3      |null         |null     |null        |\n",
      "|Germany|48     |11         |1795         |1600.0      |null         |1800.0   |null        |\n",
      "|Germany|49     |12         |1852         |1800.0      |1600.0       |1800.0   |200.0       |\n",
      "|Germany|50     |15         |1973         |1800.0      |1800.0       |1600.0   |0.0         |\n",
      "|Germany|51     |5          |1103         |1600.0      |1800.0       |null     |-200.0      |\n",
      "|France |48     |4          |1299         |500.0       |null         |500.0    |null        |\n",
      "|France |49     |9          |2303         |500.0       |500.0        |537.32   |0.0         |\n",
      "|France |50     |6          |529          |537.32      |500.0        |500.0    |37.32       |\n",
      "|France |51     |5          |847          |500.0       |537.32       |null     |-37.32      |\n",
      "|Belgium|48     |1          |528          |800.0       |null         |625.16   |null        |\n",
      "+-------+-------+-----------+-------------+------------+-------------+---------+------------+\n",
      "only showing top 10 rows\n",
      "\n"
     ]
    }
   ],
   "source": [
    "# lead and lag\n",
    "\n",
    "\n",
    "from pyspark.sql import *\n",
    "from pyspark.sql.functions import *\n",
    "\n",
    "window = Window.partitionBy(\"country\") \\\n",
    "               .orderBy(\"weeknum\")\n",
    "\n",
    "df_lead = df.withColumn(\"previous_week\", lag(\"invoicevalue\").over(window)) \\\n",
    "            .withColumn(\"next_week\", lead(\"invoicevalue\").over(window)) \\\n",
    "            .withColumn(\"invoice_diff\", round(expr(\"invoicevalue - previous_week\"), 2))\n",
    "\n",
    "df_lead.show(10, truncate = False)\n"
   ]
  },
  {
   "cell_type": "code",
   "execution_count": 4,
   "id": "7853d076",
   "metadata": {},
   "outputs": [
    {
     "name": "stdout",
     "output_type": "stream",
     "text": [
      "+-----------------+\n",
      "|names            |\n",
      "+-----------------+\n",
      "|Alice,Bob,Charlie|\n",
      "+-----------------+\n",
      "\n",
      "+---------------------+\n",
      "|split_names          |\n",
      "+---------------------+\n",
      "|[Alice, Bob, Charlie]|\n",
      "+---------------------+\n",
      "\n"
     ]
    }
   ],
   "source": [
    "from pyspark.sql.functions import split\n",
    "df = spark.createDataFrame([(\"Alice,Bob,Charlie\",)], [\"names\"])\n",
    "df.show(truncate=False)\n",
    "\n",
    "expanded_df = df.select(split(df[\"names\"], \",\").alias(\"split_names\"))\n",
    "expanded_df.show(truncate=False)"
   ]
  },
  {
   "cell_type": "code",
   "execution_count": 6,
   "id": "2864b355",
   "metadata": {},
   "outputs": [],
   "source": [
    " lines = [\n",
    "            \"In my younger and more vulnerable years my father gave me some advice that I've been \"\n",
    "            \"turning over in my mind ever since. \\\"Whenever you feel like criticising any one,\\\"\"\n",
    "            \" he told me, \\\"just remember that all the people in this world haven't had the advantages\"\n",
    "            \" that you've had.\\\"\",\n",
    "            \"Most of the big shore places were closed now and there were hardly any lights except the \"\n",
    "            \"shadowy, moving glow of a ferryboat across the Sound. And as the moon rose higher the \"\n",
    "            \"inessential houses began to melt away until gradually I became aware of the old island \"\n",
    "            \"here that flowered once for Dutch sailors' eyes--a fresh, green breast of the new world. \"\n",
    "            \"Its vanished trees, the trees that had made way for Gatsby's house, had once pandered in \"\n",
    "            \"whispers to the last and greatest of all human dreams; for a transitory enchanted moment \"\n",
    "            \"man must have held his breath in the presence of this continent, compelled into an \"\n",
    "            \"aesthetic contemplation he neither understood nor desired, face to face for the last time \"\n",
    "            \"in history with something commensurate to his capacity for wonder.\",\n",
    "            \"And as I sat there, brooding on the old unknown world, I thought of Gatsby's wonder when \"\n",
    "            \"he first picked out the green light at the end of Daisy's dock. He had come a long way to \"\n",
    "            \"this blue lawn and his dream must have seemed so close that he could hardly fail to grasp \"\n",
    "            \"it. He did not know that it was already behind him, somewhere back in that vast obscurity \"\n",
    "            \"beyond the city, where the dark fields of the republic rolled on under the night.\",\n",
    "            \"Gatsby believed in the green light, the orgastic future that year by year recedes before \"\n",
    "            \"us. It eluded us then, but that's no matter--tomorrow we will run faster, stretch out our \"\n",
    "            \"arms farther.... And one fine morning----\",\n",
    "            \"So we beat on, boats against the current, borne back ceaselessly into the past.      \"\n",
    "        ]\n",
    "    \n",
    "\n",
    "full_text = \" \".join(lines)"
   ]
  },
  {
   "cell_type": "code",
   "execution_count": null,
   "id": "54fcaed5",
   "metadata": {},
   "outputs": [
    {
     "name": "stdout",
     "output_type": "stream",
     "text": [
      "+------------------------------------------------------------------------------------------------------------------------------------------------------------------------------------------------------------------------------------------------------------------------------------------------------------------------------------------------------------------------------------------------------------------------------------------------------------------------------------------------------------------------------------------------------------------------------------------------------------------------------------------------------------------------------------------------------------------------------------------------------------------------------------------------+\n",
      "|line                                                                                                                                                                                                                                                                                                                                                                                                                                                                                                                                                                                                                                                                                                                                                                                            |\n",
      "+------------------------------------------------------------------------------------------------------------------------------------------------------------------------------------------------------------------------------------------------------------------------------------------------------------------------------------------------------------------------------------------------------------------------------------------------------------------------------------------------------------------------------------------------------------------------------------------------------------------------------------------------------------------------------------------------------------------------------------------------------------------------------------------------+\n",
      "|In my younger and more vulnerable years my father gave me some advice that I've been turning over in my mind ever since. \"Whenever you feel like criticising any one,\" he told me, \"just remember that all the people in this world haven't had the advantages that you've had.\"                                                                                                                                                                                                                                                                                                                                                                                                                                                                                                                |\n",
      "|Most of the big shore places were closed now and there were hardly any lights except the shadowy, moving glow of a ferryboat across the Sound. And as the moon rose higher the inessential houses began to melt away until gradually I became aware of the old island here that flowered once for Dutch sailors' eyes--a fresh, green breast of the new world. Its vanished trees, the trees that had made way for Gatsby's house, had once pandered in whispers to the last and greatest of all human dreams; for a transitory enchanted moment man must have held his breath in the presence of this continent, compelled into an aesthetic contemplation he neither understood nor desired, face to face for the last time in history with something commensurate to his capacity for wonder.|\n",
      "|And as I sat there, brooding on the old unknown world, I thought of Gatsby's wonder when he first picked out the green light at the end of Daisy's dock. He had come a long way to this blue lawn and his dream must have seemed so close that he could hardly fail to grasp it. He did not know that it was already behind him, somewhere back in that vast obscurity beyond the city, where the dark fields of the republic rolled on under the night.                                                                                                                                                                                                                                                                                                                                        |\n",
      "|Gatsby believed in the green light, the orgastic future that year by year recedes before us. It eluded us then, but that's no matter--tomorrow we will run faster, stretch out our arms farther.... And one fine morning----                                                                                                                                                                                                                                                                                                                                                                                                                                                                                                                                                                    |\n",
      "|So we beat on, boats against the current, borne back ceaselessly into the past.                                                                                                                                                                                                                                                                                                                                                                                                                                                                                                                                                                                                                                                                                                                 |\n",
      "+------------------------------------------------------------------------------------------------------------------------------------------------------------------------------------------------------------------------------------------------------------------------------------------------------------------------------------------------------------------------------------------------------------------------------------------------------------------------------------------------------------------------------------------------------------------------------------------------------------------------------------------------------------------------------------------------------------------------------------------------------------------------------------------------+\n",
      "\n"
     ]
    }
   ],
   "source": [
    "df = spark.createDataFrame([(line,) for line in lines], [\"line\"])\n",
    "df.show(5, truncate=False)\n",
    "\n",
    "rdd = df.rdd\n",
    "\n",
    "words = rdd.flatMap(lambda row: row.line.split(\" \")) \\\n",
    "           .map(lambda word: (word, 1)) \\\n",
    "           .reduceByKey(lambda x,y: x+y)\n",
    "\n",
    "words.collect()"
   ]
  },
  {
   "cell_type": "code",
   "execution_count": 14,
   "id": "e3c74a0f",
   "metadata": {
    "collapsed": true,
    "jupyter": {
     "outputs_hidden": true
    }
   },
   "outputs": [
    {
     "name": "stdout",
     "output_type": "stream",
     "text": [
      "+-------------------------------------------------------------------------------------------------------------------------------------------------------------------------------------------------------------------------------------------------------------------------------------------------------------------------------------------------------------------------------------------------------------------------------------------------------------------------------------------------------------------------------------------------------------------------------------------------------------------------------------------------------------------------------------------------------------------------------------------------------------------------------------------------------------------------------------------------------------------------------------------------------------------------------------------------------------------------------------------------------------------------------------------------------------------------------------------------------------------------------------------------------------------------------------------------------------------------------------------------------------------------------------------------------------------------------------------------------------------------------------------------------------------------------------------------------------------------------------------------------------------------------------------------------------------------------------------------------------------------------------------------------------------------------------------------------------------------------------------------------------------------------------------------------------------------------------------------------------+\n",
      "|full_text                                                                                                                                                                                                                                                                                                                                                                                                                                                                                                                                                                                                                                                                                                                                                                                                                                                                                                                                                                                                                                                                                                                                                                                                                                                                                                                                                                                                                                                                                                                                                                                                                                                                                                                                                                                                                                                    |\n",
      "+-------------------------------------------------------------------------------------------------------------------------------------------------------------------------------------------------------------------------------------------------------------------------------------------------------------------------------------------------------------------------------------------------------------------------------------------------------------------------------------------------------------------------------------------------------------------------------------------------------------------------------------------------------------------------------------------------------------------------------------------------------------------------------------------------------------------------------------------------------------------------------------------------------------------------------------------------------------------------------------------------------------------------------------------------------------------------------------------------------------------------------------------------------------------------------------------------------------------------------------------------------------------------------------------------------------------------------------------------------------------------------------------------------------------------------------------------------------------------------------------------------------------------------------------------------------------------------------------------------------------------------------------------------------------------------------------------------------------------------------------------------------------------------------------------------------------------------------------------------------+\n",
      "|In my younger and more vulnerable years my father gave me some advice that I've been turning over in my mind ever since. \"Whenever you feel like criticising any one,\" he told me, \"just remember that all the people in this world haven't had the advantages that you've had.\" Most of the big shore places were closed now and there were hardly any lights except the shadowy, moving glow of a ferryboat across the Sound. And as the moon rose higher the inessential houses began to melt away until gradually I became aware of the old island here that flowered once for Dutch sailors' eyes--a fresh, green breast of the new world. Its vanished trees, the trees that had made way for Gatsby's house, had once pandered in whispers to the last and greatest of all human dreams; for a transitory enchanted moment man must have held his breath in the presence of this continent, compelled into an aesthetic contemplation he neither understood nor desired, face to face for the last time in history with something commensurate to his capacity for wonder. And as I sat there, brooding on the old unknown world, I thought of Gatsby's wonder when he first picked out the green light at the end of Daisy's dock. He had come a long way to this blue lawn and his dream must have seemed so close that he could hardly fail to grasp it. He did not know that it was already behind him, somewhere back in that vast obscurity beyond the city, where the dark fields of the republic rolled on under the night. Gatsby believed in the green light, the orgastic future that year by year recedes before us. It eluded us then, but that's no matter--tomorrow we will run faster, stretch out our arms farther.... And one fine morning---- So we beat on, boats against the current, borne back ceaselessly into the past.      |\n",
      "+-------------------------------------------------------------------------------------------------------------------------------------------------------------------------------------------------------------------------------------------------------------------------------------------------------------------------------------------------------------------------------------------------------------------------------------------------------------------------------------------------------------------------------------------------------------------------------------------------------------------------------------------------------------------------------------------------------------------------------------------------------------------------------------------------------------------------------------------------------------------------------------------------------------------------------------------------------------------------------------------------------------------------------------------------------------------------------------------------------------------------------------------------------------------------------------------------------------------------------------------------------------------------------------------------------------------------------------------------------------------------------------------------------------------------------------------------------------------------------------------------------------------------------------------------------------------------------------------------------------------------------------------------------------------------------------------------------------------------------------------------------------------------------------------------------------------------------------------------------------+\n",
      "\n"
     ]
    }
   ],
   "source": [
    "df = spark.createDataFrame([(full_text,)], [\"full_text\"])\n",
    "df.show(5, truncate=False)"
   ]
  },
  {
   "cell_type": "code",
   "execution_count": 15,
   "id": "13d82381",
   "metadata": {},
   "outputs": [],
   "source": [
    "rdd = df.rdd"
   ]
  },
  {
   "cell_type": "code",
   "execution_count": 16,
   "id": "174d388b",
   "metadata": {},
   "outputs": [
    {
     "data": {
      "text/plain": [
       "[Row(full_text='In my younger and more vulnerable years my father gave me some advice that I\\'ve been turning over in my mind ever since. \"Whenever you feel like criticising any one,\" he told me, \"just remember that all the people in this world haven\\'t had the advantages that you\\'ve had.\" Most of the big shore places were closed now and there were hardly any lights except the shadowy, moving glow of a ferryboat across the Sound. And as the moon rose higher the inessential houses began to melt away until gradually I became aware of the old island here that flowered once for Dutch sailors\\' eyes--a fresh, green breast of the new world. Its vanished trees, the trees that had made way for Gatsby\\'s house, had once pandered in whispers to the last and greatest of all human dreams; for a transitory enchanted moment man must have held his breath in the presence of this continent, compelled into an aesthetic contemplation he neither understood nor desired, face to face for the last time in history with something commensurate to his capacity for wonder. And as I sat there, brooding on the old unknown world, I thought of Gatsby\\'s wonder when he first picked out the green light at the end of Daisy\\'s dock. He had come a long way to this blue lawn and his dream must have seemed so close that he could hardly fail to grasp it. He did not know that it was already behind him, somewhere back in that vast obscurity beyond the city, where the dark fields of the republic rolled on under the night. Gatsby believed in the green light, the orgastic future that year by year recedes before us. It eluded us then, but that\\'s no matter--tomorrow we will run faster, stretch out our arms farther.... And one fine morning---- So we beat on, boats against the current, borne back ceaselessly into the past.      ')]"
      ]
     },
     "execution_count": 16,
     "metadata": {},
     "output_type": "execute_result"
    }
   ],
   "source": [
    "rdd.collect()"
   ]
  },
  {
   "cell_type": "code",
   "execution_count": null,
   "id": "a15c272e",
   "metadata": {},
   "outputs": [],
   "source": [
    "words = rdd.flatMap(lambda row: row.full_text.split(\" \")) \\\n",
    "           .map(lambda x: (x, 1)) \\\n",
    "           .reduceByKey(lambda x,y:x+y)\n",
    "words.collect()"
   ]
  },
  {
   "cell_type": "code",
   "execution_count": null,
   "id": "20b834e4",
   "metadata": {},
   "outputs": [],
   "source": []
  },
  {
   "cell_type": "code",
   "execution_count": null,
   "id": "a5303808",
   "metadata": {},
   "outputs": [],
   "source": []
  },
  {
   "cell_type": "code",
   "execution_count": null,
   "id": "56e5c9e9",
   "metadata": {},
   "outputs": [],
   "source": []
  }
 ],
 "metadata": {
  "kernelspec": {
   "display_name": "Pyspark 3",
   "language": "python",
   "name": "pyspark3"
  },
  "language_info": {
   "codemirror_mode": {
    "name": "ipython",
    "version": 3
   },
   "file_extension": ".py",
   "mimetype": "text/x-python",
   "name": "python",
   "nbconvert_exporter": "python",
   "pygments_lexer": "ipython3",
   "version": "3.6.12"
  }
 },
 "nbformat": 4,
 "nbformat_minor": 5
}
