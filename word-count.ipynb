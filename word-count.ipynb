{
 "cells": [
  {
   "cell_type": "code",
   "execution_count": 41,
   "id": "43edf9bc",
   "metadata": {},
   "outputs": [],
   "source": [
    "from pyspark.sql import SparkSession\n",
    "import getpass\n",
    "username = getpass.getuser()\n",
    "spark = SparkSession. \\\n",
    "builder. \\\n",
    "config('spark.ui.port', '0'). \\\n",
    "config(\"spark.sql.warehouse.dir\", f\"/user/{username}/warehouse\"). \\\n",
    "enableHiveSupport(). \\\n",
    "master('yarn'). \\\n",
    "getOrCreate()"
   ]
  },
  {
   "cell_type": "code",
   "execution_count": 7,
   "id": "8aabba44",
   "metadata": {},
   "outputs": [],
   "source": [
    "rdd = spark.sparkContext.textFile(\"data/input/inputfile.txt\")"
   ]
  },
  {
   "cell_type": "code",
   "execution_count": 8,
   "id": "3694d15d",
   "metadata": {},
   "outputs": [
    {
     "data": {
      "text/plain": [
       "[\"In today's fast-paced world, technology continues to evolve at an unprecedented rate, shaping every aspect of our lives. \",\n",
       " 'From simplifying everyday tasks to solving complex global challenges, innovation plays a crucial role in driving progress.',\n",
       " 'Artificial intelligence, for instance, has transformed industries like healthcare, education, and transportation, making them more efficient and accessible. ',\n",
       " 'However, with these advancements come responsibilities—to use technology ethically, ensure data privacy, and bridge the digital divide. ',\n",
       " 'As we move forward, a balanced approach that fosters both development and accountability will be key to building a future that benefits everyone.']"
      ]
     },
     "execution_count": 8,
     "metadata": {},
     "output_type": "execute_result"
    }
   ],
   "source": [
    "rdd.collect()"
   ]
  },
  {
   "cell_type": "code",
   "execution_count": 9,
   "id": "65100a8f",
   "metadata": {},
   "outputs": [],
   "source": [
    "rdd1 = rdd.flatMap(lambda x: x.split(\" \"))"
   ]
  },
  {
   "cell_type": "code",
   "execution_count": 12,
   "id": "e6825130",
   "metadata": {},
   "outputs": [],
   "source": [
    "rdd2 = rdd1.map(lambda x: (x, 1))"
   ]
  },
  {
   "cell_type": "code",
   "execution_count": 17,
   "id": "0897f98a",
   "metadata": {},
   "outputs": [],
   "source": [
    "words = rdd2.reduceByKey(lambda x,y: x+y).sortBy(lambda x:x[1], False)"
   ]
  },
  {
   "cell_type": "code",
   "execution_count": 20,
   "id": "d3eb822b",
   "metadata": {},
   "outputs": [
    {
     "data": {
      "text/plain": [
       "[('and', 4),\n",
       " ('', 3),\n",
       " ('a', 3),\n",
       " ('to', 3),\n",
       " ('technology', 2),\n",
       " ('that', 2),\n",
       " ('world,', 1),\n",
       " ('continues', 1),\n",
       " ('at', 1),\n",
       " ('an', 1)]"
      ]
     },
     "execution_count": 20,
     "metadata": {},
     "output_type": "execute_result"
    }
   ],
   "source": [
    "words.take(10)"
   ]
  },
  {
   "cell_type": "code",
   "execution_count": 24,
   "id": "cdc5c84a",
   "metadata": {},
   "outputs": [],
   "source": [
    "rdd = spark.sparkContext.parallelize([4, 6, 7])"
   ]
  },
  {
   "cell_type": "code",
   "execution_count": 27,
   "id": "42f0699e",
   "metadata": {},
   "outputs": [],
   "source": [
    "s = rdd.reduce(lambda x, y: x+y)"
   ]
  },
  {
   "cell_type": "code",
   "execution_count": 40,
   "id": "d3ed5f6c",
   "metadata": {},
   "outputs": [],
   "source": [
    "spark.stop()"
   ]
  },
  {
   "cell_type": "code",
   "execution_count": 42,
   "id": "42c282db",
   "metadata": {},
   "outputs": [],
   "source": [
    "words = ['wow', 'good', 'super', 'bug', 'error', 'tech']"
   ]
  },
  {
   "cell_type": "code",
   "execution_count": 44,
   "id": "c29834d7",
   "metadata": {},
   "outputs": [],
   "source": [
    "words_rdd = spark.sparkContext.parallelize(words)"
   ]
  },
  {
   "cell_type": "code",
   "execution_count": 45,
   "id": "e18810b0",
   "metadata": {},
   "outputs": [
    {
     "data": {
      "text/plain": [
       "[('good', 1), ('super', 1), ('bug', 1), ('error', 1), ('tech', 1), ('wow', 1)]"
      ]
     },
     "execution_count": 45,
     "metadata": {},
     "output_type": "execute_result"
    }
   ],
   "source": [
    "words_rdd.map(lambda x: (x, 1)).reduceByKey(lambda x,y: x+y).collect()"
   ]
  },
  {
   "cell_type": "code",
   "execution_count": null,
   "id": "e537a346",
   "metadata": {},
   "outputs": [],
   "source": []
  },
  {
   "cell_type": "code",
   "execution_count": null,
   "id": "6ac520bc",
   "metadata": {},
   "outputs": [],
   "source": []
  },
  {
   "cell_type": "code",
   "execution_count": null,
   "id": "bab7d951",
   "metadata": {},
   "outputs": [],
   "source": []
  }
 ],
 "metadata": {
  "kernelspec": {
   "display_name": "Pyspark 3",
   "language": "python",
   "name": "pyspark3"
  },
  "language_info": {
   "codemirror_mode": {
    "name": "ipython",
    "version": 3
   },
   "file_extension": ".py",
   "mimetype": "text/x-python",
   "name": "python",
   "nbconvert_exporter": "python",
   "pygments_lexer": "ipython3",
   "version": "3.6.12"
  }
 },
 "nbformat": 4,
 "nbformat_minor": 5
}
