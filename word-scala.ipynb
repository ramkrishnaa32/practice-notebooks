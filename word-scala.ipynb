{
 "cells": [
  {
   "cell_type": "code",
   "execution_count": 1,
   "id": "d204bff3",
   "metadata": {},
   "outputs": [
    {
     "data": {
      "text/plain": [
       "Waiting for a Spark session to start..."
      ]
     },
     "metadata": {},
     "output_type": "display_data",
     "source": "user"
    },
    {
     "data": {
      "text/plain": [
       "rdd = data/input/inputfile.txt MapPartitionsRDD[1] at textFile at <console>:27\n"
      ]
     },
     "metadata": {},
     "output_type": "display_data",
     "source": "user"
    },
    {
     "data": {
      "text/plain": [
       "data/input/inputfile.txt MapPartitionsRDD[1] at textFile at <console>:27"
      ]
     },
     "execution_count": 1,
     "metadata": {},
     "output_type": "execute_result"
    }
   ],
   "source": [
    "val rdd = spark.sparkContext.textFile(\"data/input/inputfile.txt\")"
   ]
  },
  {
   "cell_type": "code",
   "execution_count": 2,
   "id": "31b8e777",
   "metadata": {},
   "outputs": [
    {
     "data": {
      "text/plain": [
       "Array(\"In today's fast-paced world, technology continues to evolve at an unprecedented rate, shaping every aspect of our lives. \", From simplifying everyday tasks to solving complex global challenges, innovation plays a crucial role in driving progress., \"Artificial intelligence, for instance, has transformed industries like healthcare, education, and transportation, making them more efficient and accessible. \", \"However, with these advancements come responsibilities—to use technology ethically, ensure data privacy, and bridge the digital divide. \", As we move forward, a balanced approach that fosters both development and accountability will be key to building a future that benefits everyone.)"
      ]
     },
     "execution_count": 2,
     "metadata": {},
     "output_type": "execute_result"
    }
   ],
   "source": [
    "rdd.collect()"
   ]
  },
  {
   "cell_type": "code",
   "execution_count": 3,
   "id": "2ae43d91",
   "metadata": {},
   "outputs": [
    {
     "data": {
      "text/plain": [
       "wordCounts = ShuffledRDD[5] at reduceByKey at <console>:31\n"
      ]
     },
     "metadata": {},
     "output_type": "display_data",
     "source": "user"
    },
    {
     "data": {
      "text/plain": [
       "ShuffledRDD[5] at reduceByKey at <console>:31"
      ]
     },
     "execution_count": 3,
     "metadata": {},
     "output_type": "execute_result"
    }
   ],
   "source": [
    "val wordCounts = rdd\n",
    "  .flatMap(line => line.split(\"\\\\s+\"))\n",
    "  .filter(_.nonEmpty)\n",
    "  .map(word => (word, 1))\n",
    "  .reduceByKey(_ + _)"
   ]
  },
  {
   "cell_type": "code",
   "execution_count": 4,
   "id": "7b4e08fd",
   "metadata": {},
   "outputs": [
    {
     "data": {
      "text/plain": [
       "Array((technology,2), (role,1), (solving,1), (Artificial,1), (industries,1), (tasks,1), (transportation,,1), (shaping,1), (education,,1), (privacy,,1), (accessible.,1), (As,1), (will,1), (with,1), (data,1), (However,,1), (we,1), (aspect,1), (come,1), (our,1), (From,1), (fosters,1), (complex,1), (digital,1), (continues,1), (ensure,1), (benefits,1), (world,,1), (challenges,,1), (approach,1), (balanced,1), (them,1), (rate,,1), (unprecedented,1), (building,1), (has,1), (fast-paced,1), (plays,1), (accountability,1), (instance,,1), (divide.,1), (evolve,1), (everyone.,1), (progress.,1), (global,1), (advancements,1), (at,1), (lives.,1), (in,1), (development,1), (In,1), (for,1), (bridge,1), (healthcare,,1), (today's,1), (these,1), (ethically,,1), (everyday,1), (simpl..."
      ]
     },
     "execution_count": 4,
     "metadata": {},
     "output_type": "execute_result"
    }
   ],
   "source": [
    "wordCounts.collect()"
   ]
  },
  {
   "cell_type": "code",
   "execution_count": 6,
   "id": "78d1842a",
   "metadata": {},
   "outputs": [
    {
     "data": {
      "text/plain": [
       "cleanWordCounts = ShuffledRDD[9] at reduceByKey at <console>:31\n"
      ]
     },
     "metadata": {},
     "output_type": "display_data",
     "source": "user"
    },
    {
     "data": {
      "text/plain": [
       "ShuffledRDD[9] at reduceByKey at <console>:31"
      ]
     },
     "execution_count": 6,
     "metadata": {},
     "output_type": "execute_result"
    }
   ],
   "source": [
    "val cleanWordCounts = rdd\n",
    "  .flatMap(line => line.toLowerCase().replaceAll(\"[^a-zA-Z0-9\\\\s]\", \"\").split(\"\\\\s+\"))\n",
    "  .filter(_.nonEmpty)\n",
    "  .map(word => (word, 1))\n",
    "  .reduceByKey(_ + _)"
   ]
  },
  {
   "cell_type": "code",
   "execution_count": 7,
   "id": "4b105c7f",
   "metadata": {},
   "outputs": [
    {
     "data": {
      "text/plain": [
       "Array((technology,2), (role,1), (solving,1), (education,1), (tasks,1), (industries,1), (shaping,1), (todays,1), (rate,1), (with,1), (will,1), (our,1), (data,1), (as,1), (we,1), (aspect,1), (come,1), (transportation,1), (complex,1), (challenges,1), (fosters,1), (privacy,1), (however,1), (digital,1), (continues,1), (ensure,1), (benefits,1), (approach,1), (balanced,1), (accessible,1), (them,1), (unprecedented,1), (building,1), (from,1), (has,1), (artificial,1), (world,1), (plays,1), (accountability,1), (responsibilitiesto,1), (instance,1), (evolve,1), (divide,1), (global,1), (advancements,1), (at,1), (in,2), (development,1), (intelligence,1), (healthcare,1), (for,1), (bridge,1), (lives,1), (these,1), (everyday,1), (simplifying,1), (the,1), (use,1), (everyone,1..."
      ]
     },
     "execution_count": 7,
     "metadata": {},
     "output_type": "execute_result"
    }
   ],
   "source": [
    "cleanWordCounts.collect()"
   ]
  },
  {
   "cell_type": "code",
   "execution_count": 8,
   "id": "43ec935c",
   "metadata": {},
   "outputs": [
    {
     "data": {
      "text/plain": [
       "sortedWordCounts = MapPartitionsRDD[14] at map at <console>:30\n"
      ]
     },
     "metadata": {},
     "output_type": "display_data",
     "source": "user"
    },
    {
     "data": {
      "text/plain": [
       "MapPartitionsRDD[14] at map at <console>:30"
      ]
     },
     "execution_count": 8,
     "metadata": {},
     "output_type": "execute_result"
    }
   ],
   "source": [
    "val sortedWordCounts = cleanWordCounts\n",
    "  .map(_.swap)                          // Swap to (count, word)\n",
    "  .sortByKey(false)                     // Sort by count descending\n",
    "  .map(_.swap)  "
   ]
  },
  {
   "cell_type": "code",
   "execution_count": 9,
   "id": "e0dbcb93",
   "metadata": {},
   "outputs": [
    {
     "data": {
      "text/plain": [
       "Array((and,4), (a,3), (to,3), (technology,2), (in,2), (that,2), (plays,1), (accountability,1), (responsibilitiesto,1), (instance,1), (evolve,1), (divide,1), (global,1), (advancements,1), (at,1), (development,1), (intelligence,1), (healthcare,1), (for,1), (bridge,1), (lives,1), (these,1), (use,1), (simplifying,1), (everyone,1), (the,1), (everyday,1), (every,1), (key,1), (forward,1), (ethically,1), (be,1), (future,1), (more,1), (progress,1), (of,1), (driving,1), (like,1), (efficient,1), (both,1), (an,1), (making,1), (transformed,1), (innovation,1), (move,1), (crucial,1), (fastpaced,1), (role,1), (solving,1), (education,1), (tasks,1), (industries,1), (shaping,1), (todays,1), (rate,1), (with,1), (will,1), (our,1), (aspect,1), (complex,1), (as,1), (data,1), (we,..."
      ]
     },
     "execution_count": 9,
     "metadata": {},
     "output_type": "execute_result"
    }
   ],
   "source": [
    "sortedWordCounts.collect()"
   ]
  }
 ],
 "metadata": {
  "kernelspec": {
   "display_name": "Spark 2 - Scala",
   "language": "scala",
   "name": "spark_2_scala"
  },
  "language_info": {
   "codemirror_mode": "text/x-scala",
   "file_extension": ".scala",
   "mimetype": "text/x-scala",
   "name": "scala",
   "pygments_lexer": "scala",
   "version": "2.11.12"
  }
 },
 "nbformat": 4,
 "nbformat_minor": 5
}
