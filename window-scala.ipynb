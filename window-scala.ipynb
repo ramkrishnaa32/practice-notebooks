{
 "cells": [
  {
   "cell_type": "code",
   "execution_count": 2,
   "id": "1ede43d3",
   "metadata": {},
   "outputs": [
    {
     "data": {
      "text/plain": [
       "Waiting for a Spark session to start..."
      ]
     },
     "metadata": {},
     "output_type": "display_data",
     "source": "user"
    },
    {
     "data": {
      "text/plain": [
       "orders_df = [country: string, weeknum: int ... 3 more fields]\n"
      ]
     },
     "metadata": {},
     "output_type": "display_data",
     "source": "user"
    },
    {
     "data": {
      "text/plain": [
       "[country: string, weeknum: int ... 3 more fields]"
      ]
     },
     "execution_count": 2,
     "metadata": {},
     "output_type": "execute_result"
    }
   ],
   "source": [
    "val orders_df = spark.read\n",
    ".format(\"csv\")\n",
    ".option(\"inferSchema\",\"true\")\n",
    ".option(\"header\",\"true\")\n",
    ".load(\"/public/trendytech/datasets/windowdatamodified.csv\")"
   ]
  },
  {
   "cell_type": "code",
   "execution_count": 3,
   "id": "702e6722",
   "metadata": {},
   "outputs": [
    {
     "name": "stdout",
     "output_type": "stream",
     "text": [
      "+---------+-------+-----------+-------------+------------+\n",
      "|country  |weeknum|numinvoices|totalquantity|invoicevalue|\n",
      "+---------+-------+-----------+-------------+------------+\n",
      "|Spain    |49     |1          |67           |174.72      |\n",
      "|Germany  |48     |11         |1795         |1600.0      |\n",
      "|Lithuania|48     |3          |622          |1598.06     |\n",
      "|Germany  |49     |12         |1852         |1800.0      |\n",
      "|Bahrain  |51     |1          |54           |205.74      |\n",
      "|Iceland  |49     |1          |319          |711.79      |\n",
      "|India    |51     |5          |95           |300.0       |\n",
      "|Australia|50     |2          |133          |387.95      |\n",
      "|Italy    |49     |1          |-2           |-17.0       |\n",
      "|India    |49     |5          |1280         |3284.1      |\n",
      "+---------+-------+-----------+-------------+------------+\n",
      "only showing top 10 rows\n",
      "\n"
     ]
    }
   ],
   "source": [
    "orders_df.show(10, truncate = false)"
   ]
  },
  {
   "cell_type": "markdown",
   "id": "24a50f0b",
   "metadata": {},
   "source": [
    "# Running Total"
   ]
  },
  {
   "cell_type": "code",
   "execution_count": 10,
   "id": "f2ed269d",
   "metadata": {},
   "outputs": [
    {
     "name": "stdout",
     "output_type": "stream",
     "text": [
      "+-------+-------+-----------+-------------+------------+------------------+\n",
      "|country|weeknum|numinvoices|totalquantity|invoicevalue|running_total     |\n",
      "+-------+-------+-----------+-------------+------------+------------------+\n",
      "|Sweden |50     |3          |3714         |2646.3      |2646.3            |\n",
      "|Germany|51     |5          |1103         |1600.0      |1600.0            |\n",
      "|Germany|50     |15         |1973         |1800.0      |3400.0            |\n",
      "|Germany|49     |12         |1852         |1800.0      |5200.0            |\n",
      "|Germany|48     |11         |1795         |1600.0      |6800.0            |\n",
      "|France |51     |5          |847          |500.0       |500.0             |\n",
      "|France |50     |6          |529          |537.32      |1037.3200000000002|\n",
      "|France |49     |9          |2303         |500.0       |1537.3200000000002|\n",
      "|France |48     |4          |1299         |500.0       |2037.3200000000002|\n",
      "|Belgium|51     |2          |942          |800.0       |800.0             |\n",
      "+-------+-------+-----------+-------------+------------+------------------+\n",
      "only showing top 10 rows\n",
      "\n"
     ]
    },
    {
     "data": {
      "text/plain": [
       "window = org.apache.spark.sql.expressions.WindowSpec@5410180d\n",
       "running_total = [country: string, weeknum: int ... 4 more fields]\n"
      ]
     },
     "metadata": {},
     "output_type": "display_data",
     "source": "user"
    },
    {
     "data": {
      "text/plain": [
       "[country: string, weeknum: int ... 4 more fields]"
      ]
     },
     "execution_count": 10,
     "metadata": {},
     "output_type": "execute_result"
    }
   ],
   "source": [
    "\n",
    "import org.apache.spark.sql.expressions.Window\n",
    "import org.apache.spark.sql.functions._\n",
    "\n",
    "val window = Window.partitionBy(\"country\").orderBy(col(\"weeknum\").desc).rowsBetween(Window.unboundedPreceding, Window.currentRow)\n",
    "\n",
    "val running_total = orders_df.withColumn(\"running_total\", sum(\"invoicevalue\").over(window))\n",
    "\n",
    "running_total.show(10, truncate = false)"
   ]
  },
  {
   "cell_type": "markdown",
   "id": "9f644396",
   "metadata": {},
   "source": [
    "## Lag"
   ]
  },
  {
   "cell_type": "code",
   "execution_count": 16,
   "id": "340da75d",
   "metadata": {},
   "outputs": [
    {
     "name": "stdout",
     "output_type": "stream",
     "text": [
      "+-------+-------+-----------+-------------+------------+-------------+\n",
      "|country|weeknum|numinvoices|totalquantity|invoicevalue|previous_week|\n",
      "+-------+-------+-----------+-------------+------------+-------------+\n",
      "|Sweden |50     |3          |3714         |2646.3      |null         |\n",
      "|Germany|48     |11         |1795         |1600.0      |null         |\n",
      "|Germany|49     |12         |1852         |1800.0      |1600.0       |\n",
      "|Germany|50     |15         |1973         |1800.0      |1800.0       |\n",
      "|Germany|51     |5          |1103         |1600.0      |1800.0       |\n",
      "|France |48     |4          |1299         |500.0       |null         |\n",
      "|France |49     |9          |2303         |500.0       |500.0        |\n",
      "|France |50     |6          |529          |537.32      |500.0        |\n",
      "|France |51     |5          |847          |500.0       |537.32       |\n",
      "|Belgium|48     |1          |528          |800.0       |null         |\n",
      "+-------+-------+-----------+-------------+------------+-------------+\n",
      "only showing top 10 rows\n",
      "\n"
     ]
    },
    {
     "data": {
      "text/plain": [
       "windowAsc = org.apache.spark.sql.expressions.WindowSpec@7eec60c1\n",
       "lag_df_explicit = [country: string, weeknum: int ... 4 more fields]\n"
      ]
     },
     "metadata": {},
     "output_type": "display_data",
     "source": "user"
    },
    {
     "data": {
      "text/plain": [
       "[country: string, weeknum: int ... 4 more fields]"
      ]
     },
     "execution_count": 16,
     "metadata": {},
     "output_type": "execute_result"
    }
   ],
   "source": [
    "import org.apache.spark.sql.expressions.Window\n",
    "import org.apache.spark.sql.functions._\n",
    "\n",
    "val windowAsc = Window.partitionBy(\"country\").orderBy(col(\"weeknum\").asc)\n",
    "val lag_df_explicit = orders_df.withColumn(\"previous_week\", lag(\"invoicevalue\", 1).over(windowAsc))\n",
    "\n",
    "lag_df_explicit.show(10, truncate = false)"
   ]
  },
  {
   "cell_type": "markdown",
   "id": "04d888cd",
   "metadata": {},
   "source": [
    "# Dense Rank"
   ]
  },
  {
   "cell_type": "code",
   "execution_count": 18,
   "id": "bfcbadfd",
   "metadata": {},
   "outputs": [
    {
     "name": "stdout",
     "output_type": "stream",
     "text": [
      "+-------+-------+-----------+-------------+------------+----------+\n",
      "|country|weeknum|numinvoices|totalquantity|invoicevalue|dence_rank|\n",
      "+-------+-------+-----------+-------------+------------+----------+\n",
      "|Sweden |50     |3          |3714         |2646.3      |1         |\n",
      "|Germany|51     |5          |1103         |1600.0      |1         |\n",
      "|Germany|50     |15         |1973         |1800.0      |2         |\n",
      "|Germany|49     |12         |1852         |1800.0      |3         |\n",
      "|Germany|48     |11         |1795         |1600.0      |4         |\n",
      "|France |51     |5          |847          |500.0       |1         |\n",
      "|France |50     |6          |529          |537.32      |2         |\n",
      "|France |49     |9          |2303         |500.0       |3         |\n",
      "|France |48     |4          |1299         |500.0       |4         |\n",
      "|Belgium|51     |2          |942          |800.0       |1         |\n",
      "+-------+-------+-----------+-------------+------------+----------+\n",
      "only showing top 10 rows\n",
      "\n"
     ]
    },
    {
     "data": {
      "text/plain": [
       "windowDesc = org.apache.spark.sql.expressions.WindowSpec@1d101e23\n",
       "dense_rank_df = [country: string, weeknum: int ... 4 more fields]\n"
      ]
     },
     "metadata": {},
     "output_type": "display_data",
     "source": "user"
    },
    {
     "data": {
      "text/plain": [
       "[country: string, weeknum: int ... 4 more fields]"
      ]
     },
     "execution_count": 18,
     "metadata": {},
     "output_type": "execute_result"
    }
   ],
   "source": [
    "import org.apache.spark.sql.expressions.Window\n",
    "import org.apache.spark.sql.functions._\n",
    "\n",
    "val windowDesc = Window.partitionBy(\"country\").orderBy(col(\"weeknum\").desc)\n",
    "val dense_rank_df = orders_df.withColumn(\"dence_rank\", dense_rank().over(windowDesc))\n",
    "\n",
    "dense_rank_df.show(10, truncate = false)"
   ]
  },
  {
   "cell_type": "code",
   "execution_count": null,
   "id": "877e0669",
   "metadata": {},
   "outputs": [],
   "source": []
  },
  {
   "cell_type": "code",
   "execution_count": null,
   "id": "5ccc6562",
   "metadata": {},
   "outputs": [],
   "source": []
  }
 ],
 "metadata": {
  "kernelspec": {
   "display_name": "Spark 2 - Scala",
   "language": "scala",
   "name": "spark_2_scala"
  },
  "language_info": {
   "codemirror_mode": "text/x-scala",
   "file_extension": ".scala",
   "mimetype": "text/x-scala",
   "name": "scala",
   "pygments_lexer": "scala",
   "version": "2.11.12"
  }
 },
 "nbformat": 4,
 "nbformat_minor": 5
}
