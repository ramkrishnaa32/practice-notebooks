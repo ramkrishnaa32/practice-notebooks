{
 "cells": [
  {
   "cell_type": "code",
   "execution_count": 2,
   "id": "15bd7ace",
   "metadata": {},
   "outputs": [
    {
     "name": "stderr",
     "output_type": "stream",
     "text": [
      "25/06/16 13:08:25 WARN Utils: Your hostname, Rams-MacBook-Pro.local resolves to a loopback address: 127.0.0.1; using 192.168.1.7 instead (on interface en0)\n",
      "25/06/16 13:08:25 WARN Utils: Set SPARK_LOCAL_IP if you need to bind to another address\n",
      "Setting default log level to \"WARN\".\n",
      "To adjust logging level use sc.setLogLevel(newLevel). For SparkR, use setLogLevel(newLevel).\n",
      "25/06/16 13:08:25 WARN NativeCodeLoader: Unable to load native-hadoop library for your platform... using builtin-java classes where applicable\n"
     ]
    }
   ],
   "source": [
    "from pyspark.sql import SparkSession\n",
    "from pyspark.sql.functions import col, mean\n",
    "\n",
    "spark = SparkSession.builder.getOrCreate()"
   ]
  },
  {
   "cell_type": "code",
   "execution_count": 3,
   "id": "d8e75a29",
   "metadata": {},
   "outputs": [
    {
     "name": "stderr",
     "output_type": "stream",
     "text": [
      "                                                                                \r"
     ]
    },
    {
     "name": "stdout",
     "output_type": "stream",
     "text": [
      "+---+----+----+\n",
      "|id |col1|col2|\n",
      "+---+----+----+\n",
      "|1  |10.0|NULL|\n",
      "|2  |NULL|30.0|\n",
      "|3  |20.0|40.0|\n",
      "+---+----+----+\n",
      "\n"
     ]
    }
   ],
   "source": [
    "data = [\n",
    "    (1, 10.0, None),\n",
    "    (2, None, 30.0),\n",
    "    (3, 20.0, 40.0)\n",
    "]\n",
    "df = spark.createDataFrame(data, [\"id\", \"col1\", \"col2\"])\n",
    "df.show(truncate=False)"
   ]
  },
  {
   "cell_type": "code",
   "execution_count": 19,
   "id": "6411cc8d",
   "metadata": {},
   "outputs": [
    {
     "data": {
      "text/plain": [
       "Row(col1=15.0, col2=35.0)"
      ]
     },
     "execution_count": 19,
     "metadata": {},
     "output_type": "execute_result"
    }
   ],
   "source": [
    "means = df.select([mean(c).alias(c) for c in df.columns if c != 'id']).collect()[0]\n",
    "means"
   ]
  },
  {
   "cell_type": "code",
   "execution_count": 24,
   "id": "0c96cabe",
   "metadata": {},
   "outputs": [
    {
     "data": {
      "text/plain": [
       "{'col1': 15.0, 'col2': 35.0}"
      ]
     },
     "execution_count": 24,
     "metadata": {},
     "output_type": "execute_result"
    }
   ],
   "source": [
    "means_dict = means.asDict()\n",
    "means_dict\n"
   ]
  },
  {
   "cell_type": "code",
   "execution_count": 26,
   "id": "8dd62515",
   "metadata": {},
   "outputs": [
    {
     "name": "stdout",
     "output_type": "stream",
     "text": [
      "+---+----+----+\n",
      "|id |col1|col2|\n",
      "+---+----+----+\n",
      "|1  |10.0|35.0|\n",
      "|2  |15.0|30.0|\n",
      "|3  |20.0|40.0|\n",
      "+---+----+----+\n",
      "\n"
     ]
    }
   ],
   "source": [
    "df.fillna(means_dict).show(truncate=False)"
   ]
  },
  {
   "cell_type": "code",
   "execution_count": 21,
   "id": "0b2d3c71",
   "metadata": {},
   "outputs": [
    {
     "name": "stdout",
     "output_type": "stream",
     "text": [
      "+---+----+----+\n",
      "|id |col1|col2|\n",
      "+---+----+----+\n",
      "|1  |10.0|35.0|\n",
      "|2  |15.0|30.0|\n",
      "|3  |20.0|40.0|\n",
      "+---+----+----+\n",
      "\n"
     ]
    }
   ],
   "source": [
    "new_df = df.fillna({col_name: means[col_name] for col_name in df.columns if col_name != 'id'}).show(truncate=False)"
   ]
  },
  {
   "cell_type": "code",
   "execution_count": null,
   "id": "6fe0549a",
   "metadata": {},
   "outputs": [],
   "source": []
  },
  {
   "cell_type": "code",
   "execution_count": null,
   "id": "35b3092f",
   "metadata": {},
   "outputs": [],
   "source": []
  }
 ],
 "metadata": {
  "kernelspec": {
   "display_name": "Python 3",
   "language": "python",
   "name": "python3"
  },
  "language_info": {
   "codemirror_mode": {
    "name": "ipython",
    "version": 3
   },
   "file_extension": ".py",
   "mimetype": "text/x-python",
   "name": "python",
   "nbconvert_exporter": "python",
   "pygments_lexer": "ipython3",
   "version": "3.9.6"
  }
 },
 "nbformat": 4,
 "nbformat_minor": 5
}
