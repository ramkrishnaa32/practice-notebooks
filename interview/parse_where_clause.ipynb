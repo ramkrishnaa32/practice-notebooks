{
 "cells": [
  {
   "cell_type": "code",
   "execution_count": 1,
   "id": "cc7eeddc",
   "metadata": {},
   "outputs": [],
   "source": [
    "import re"
   ]
  },
  {
   "cell_type": "code",
   "execution_count": 26,
   "id": "b86a9210",
   "metadata": {},
   "outputs": [
    {
     "name": "stdout",
     "output_type": "stream",
     "text": [
      "tokens: ['age > 30', 'AND', 'age <= 40', 'OR', \"department = 'Marketing'\", 'AND', 'status IS NOT NULL']\n",
      "Processing token: age > 30\n",
      "Column: age, Value: 30\n",
      "Processing token: AND\n",
      "Processing token: age <= 40\n",
      "Column: age, Value: 40\n",
      "Processing token: OR\n",
      "Processing token: department = 'Marketing'\n",
      "Column: department, Value: 'Marketing'\n",
      "Processing token: AND\n",
      "Processing token: status IS NOT NULL\n",
      "Column: status, Operator: IS NOT NULL, Value: None\n"
     ]
    }
   ],
   "source": [
    "where_clause = \"age > 30 AND age <= 40 OR department = 'Marketing' AND status IS NOT NULL\"\n",
    "column_names = [\"age\", \"department\", \"status\"]\n",
    "operators = [\"IS NOT NULL\", \"IS NULL\", \">=\", \"<=\", \"!=\", \"=\", \">\", \"<\"]\n",
    "\n",
    "# Use regex split to retain AND/OR\n",
    "tokens = re.split(r'\\s+(AND|OR)\\s+', where_clause)\n",
    "print(f\"tokens: {tokens}\")\n",
    "\n",
    "conditions = []\n",
    "\n",
    "for token in tokens:\n",
    "    token = token.strip()\n",
    "    print(f\"Processing token: {token}\")\n",
    "\n",
    "    if token in ('AND', 'OR'):\n",
    "        conditions.append(token)\n",
    "        continue\n",
    "\n",
    "    for operator in operators:\n",
    "        if operator in token:\n",
    "            if operator in ('IS NOT NULL','IS NULL'):\n",
    "                column = token.replace(operator, '').strip()\n",
    "                value = None\n",
    "                print(f\"Column: {column}, Operator: {operator}, Value: {value}\")\n",
    "            else:\n",
    "                column, value = token.split(operator)\n",
    "                print(f\"Column: {column.strip()}, Value: {value.strip()}\")\n",
    "\n",
    "            if column.strip() in column_names:\n",
    "                conditions.append({\n",
    "                    'column': column.strip(),\n",
    "                    'operator': operator,\n",
    "                    'value': value.strip() if value else None\n",
    "                })\n",
    "            break"
   ]
  },
  {
   "cell_type": "code",
   "execution_count": 27,
   "id": "a89646b9",
   "metadata": {},
   "outputs": [
    {
     "data": {
      "text/plain": [
       "[{'column': 'age', 'operator': '>', 'value': '30'},\n",
       " 'AND',\n",
       " {'column': 'age', 'operator': '<=', 'value': '40'},\n",
       " 'OR',\n",
       " {'column': 'department', 'operator': '=', 'value': \"'Marketing'\"},\n",
       " 'AND',\n",
       " {'column': 'status', 'operator': 'IS NOT NULL', 'value': None}]"
      ]
     },
     "execution_count": 27,
     "metadata": {},
     "output_type": "execute_result"
    }
   ],
   "source": [
    "conditions"
   ]
  },
  {
   "cell_type": "code",
   "execution_count": null,
   "id": "500b45d5",
   "metadata": {},
   "outputs": [],
   "source": []
  },
  {
   "cell_type": "code",
   "execution_count": null,
   "id": "6283fdd3",
   "metadata": {},
   "outputs": [],
   "source": []
  }
 ],
 "metadata": {
  "kernelspec": {
   "display_name": "Python 3",
   "language": "python",
   "name": "python3"
  },
  "language_info": {
   "codemirror_mode": {
    "name": "ipython",
    "version": 3
   },
   "file_extension": ".py",
   "mimetype": "text/x-python",
   "name": "python",
   "nbconvert_exporter": "python",
   "pygments_lexer": "ipython3",
   "version": "3.9.6"
  }
 },
 "nbformat": 4,
 "nbformat_minor": 5
}
