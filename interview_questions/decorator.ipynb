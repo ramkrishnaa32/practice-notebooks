{
 "cells": [
  {
   "cell_type": "code",
   "execution_count": 1,
   "id": "15bd7ace",
   "metadata": {},
   "outputs": [
    {
     "name": "stderr",
     "output_type": "stream",
     "text": [
      "25/06/23 11:21:05 WARN Utils: Your hostname, Rams-MacBook-Pro.local resolves to a loopback address: 127.0.0.1; using 192.168.1.5 instead (on interface en0)\n",
      "25/06/23 11:21:05 WARN Utils: Set SPARK_LOCAL_IP if you need to bind to another address\n",
      "Setting default log level to \"WARN\".\n",
      "To adjust logging level use sc.setLogLevel(newLevel). For SparkR, use setLogLevel(newLevel).\n",
      "25/06/23 11:21:05 WARN NativeCodeLoader: Unable to load native-hadoop library for your platform... using builtin-java classes where applicable\n"
     ]
    }
   ],
   "source": [
    "from pyspark.sql import SparkSession\n",
    "from pyspark.sql.functions import col, mean\n",
    "\n",
    "spark = SparkSession.builder.getOrCreate()"
   ]
  },
  {
   "cell_type": "code",
   "execution_count": 2,
   "id": "5ea93c38",
   "metadata": {},
   "outputs": [
    {
     "name": "stdout",
     "output_type": "stream",
     "text": [
      "Initiated the function\n",
      "Executing the function to calculate average\n"
     ]
    },
    {
     "name": "stderr",
     "output_type": "stream",
     "text": [
      "[Stage 0:>                                                        (0 + 10) / 10]\r"
     ]
    },
    {
     "name": "stdout",
     "output_type": "stream",
     "text": [
      "The average value is: 25.0\n",
      "Function execution completed\n"
     ]
    },
    {
     "name": "stderr",
     "output_type": "stream",
     "text": [
      "                                                                                \r"
     ]
    }
   ],
   "source": [
    "def decorator(func):\n",
    "    def wrapper():\n",
    "        print(\"Initiated the function\")\n",
    "        func()\n",
    "        print(\"Function execution completed\")\n",
    "    return wrapper\n",
    "\n",
    "@decorator\n",
    "def calculate_average():\n",
    "    print(\"Executing the function to calculate average\")\n",
    "    data = [(1, 10), (2, 20), (3, 30), (4, 40)]\n",
    "    df = spark.createDataFrame(data, [\"id\", \"value\"])\n",
    "    avg_value = df.select(mean(col(\"value\"))).collect()[0][0]\n",
    "    print(f\"The average value is: {avg_value}\")\n",
    "\n",
    "# Call the decorated function\n",
    "calculate_average()"
   ]
  },
  {
   "cell_type": "code",
   "execution_count": null,
   "id": "8c854662",
   "metadata": {},
   "outputs": [
    {
     "name": "stdout",
     "output_type": "stream",
     "text": [
      "Fibonacci sequence:\n",
      "Generating Fibonacci sequence:\n",
      "[0, 1, 1, 2, 3, 5, 8, 13, 21, 34]\n"
     ]
    }
   ],
   "source": [
    "def fibonacci(num):\n",
    "    a, b = 0, 1\n",
    "    print(\"Generating Fibonacci sequence:\")\n",
    "    for _ in range(num):\n",
    "        yield a\n",
    "        a, b = b, a + b\n",
    "\n",
    "print(\"Fibonacci sequence:\")\n",
    "print(list(fibonacci(10)))\n",
    "\n"
   ]
  }
 ],
 "metadata": {
  "kernelspec": {
   "display_name": "Python 3",
   "language": "python",
   "name": "python3"
  },
  "language_info": {
   "codemirror_mode": {
    "name": "ipython",
    "version": 3
   },
   "file_extension": ".py",
   "mimetype": "text/x-python",
   "name": "python",
   "nbconvert_exporter": "python",
   "pygments_lexer": "ipython3",
   "version": "3.9.6"
  }
 },
 "nbformat": 4,
 "nbformat_minor": 5
}
