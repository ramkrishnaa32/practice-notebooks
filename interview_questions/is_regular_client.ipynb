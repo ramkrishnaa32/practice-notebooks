{
 "cells": [
  {
   "metadata": {},
   "cell_type": "code",
   "outputs": [],
   "execution_count": null,
   "source": [
    "\"\"\"\n",
    "Processing ETL logs from multiple clients. Each client uploads files daily, and for each file, the log tracks:\n",
    "client_id\n",
    "file_name\n",
    "check_sum (represents content)\n",
    "timestamp\n",
    "\n",
    "Your goal is to identify clients who are regular, defined as:\n",
    "They uploaded at least two unique (check_sum) entries on both days.\n",
    "The set of (check_sum) from Day 1 and Day 2 should have at least 2 unique entries that differ across the two days.\n",
    "\n",
    "Scenario:\n",
    "File name same, content same\n",
    "File name same, content different\n",
    "File name different, content same\n",
    "File name different, content different\n",
    "\"\"\""
   ],
   "id": "f7f135f4c8a9ba96"
  },
  {
   "metadata": {
    "ExecuteTime": {
     "end_time": "2025-07-14T04:05:13.774142Z",
     "start_time": "2025-07-14T04:05:13.757616Z"
    }
   },
   "cell_type": "code",
   "source": [
    "from pyspark.sql import SparkSession\n",
    "from pyspark.sql.functions import *\n",
    "from pyspark.sql.types import *\n",
    "\n",
    "spark = SparkSession.builder.appName(\"ETLClientContent\").getOrCreate()"
   ],
   "id": "5a44ef60",
   "outputs": [
    {
     "name": "stderr",
     "output_type": "stream",
     "text": [
      "25/07/14 09:35:13 WARN SparkSession: Using an existing Spark session; only runtime SQL configurations will take effect.\n"
     ]
    }
   ],
   "execution_count": 3
  },
  {
   "cell_type": "code",
   "id": "c8779a12",
   "metadata": {
    "ExecuteTime": {
     "end_time": "2025-07-14T04:09:07.756197Z",
     "start_time": "2025-07-14T04:09:07.747653Z"
    }
   },
   "source": [
    "day1_data = [\n",
    "    (\"C1\", \"file1.csv\", \"cs1\", \"2025-07-13\"),\n",
    "    (\"C1\", \"file2.csv\", \"cs2\", \"2025-07-13\"),\n",
    "    (\"C1\", \"file3.csv\", \"cs3\", \"2025-07-13\"),\n",
    "    (\"C2\", \"report.csv\", \"cs4\", \"2025-07-13\"),\n",
    "    (\"C2\", \"summary.csv\", \"cs5\", \"2025-07-13\"),\n",
    "    (\"C3\", \"upload1.csv\", \"cs6\", \"2025-07-13\"),\n",
    "    (\"C3\", \"upload2.csv\", \"cs7\", \"2025-07-13\"),\n",
    "    (\"C4\", \"a.csv\", \"cs8\", \"2025-07-13\"),\n",
    "    (\"C4\", \"b.csv\", \"cs9\", \"2025-07-13\"),\n",
    "    (\"C5\", \"test1.csv\", \"cs10\", \"2025-07-13\"),\n",
    "    (\"C5\", \"test2.csv\", \"cs11\", \"2025-07-13\")\n",
    "]\n",
    "\n",
    "day2_data = [\n",
    "    (\"C1\", \"file1.csv\", \"cs1\", \"2025-07-14\"),\n",
    "    (\"C1\", \"file4.csv\", \"cs12\", \"2025-07-14\"),\n",
    "    (\"C2\", \"report.csv\", \"cs13\", \"2025-07-14\"),\n",
    "    (\"C2\", \"summary.csv\", \"cs14\", \"2025-07-14\"),\n",
    "    (\"C3\", \"new1.csv\", \"cs6\", \"2025-07-14\"),\n",
    "    (\"C3\", \"new2.csv\", \"cs7\", \"2025-07-14\"),\n",
    "    (\"C4\", \"c.csv\", \"cs15\", \"2025-07-14\"),\n",
    "    (\"C4\", \"d.csv\", \"cs16\", \"2025-07-14\"),\n",
    "    (\"C5\", \"test3.csv\", \"cs17\", \"2025-07-14\"),\n",
    "    (\"C6\", \"z1.csv\", \"cs18\", \"2025-07-14\"),\n",
    "    (\"C6\", \"z2.csv\", \"cs19\", \"2025-07-14\")\n",
    "]\n",
    "\n"
   ],
   "outputs": [],
   "execution_count": 4
  },
  {
   "metadata": {
    "ExecuteTime": {
     "end_time": "2025-07-14T04:35:44.939296Z",
     "start_time": "2025-07-14T04:35:44.700390Z"
    }
   },
   "cell_type": "code",
   "source": [
    "columns = [\"client_id\", \"file_name\", \"check_sum\", \"timestamp\"]\n",
    "\n",
    "# Create day1 and day2 DataFrames\n",
    "df_day1 = spark.createDataFrame(day1_data, columns).withColumn(\"day\", lit(\"day1\"))\n",
    "df_day2 = spark.createDataFrame(day2_data, columns).withColumn(\"day\", lit(\"day2\"))\n",
    "\n",
    "combined_df = df_day1.unionByName(df_day2)\n",
    "\n",
    "combined_df.show(truncate=False)"
   ],
   "id": "cf8d7043438ae4bc",
   "outputs": [
    {
     "name": "stdout",
     "output_type": "stream",
     "text": [
      "+---------+-----------+---------+----------+----+\n",
      "|client_id|file_name  |check_sum|timestamp |day |\n",
      "+---------+-----------+---------+----------+----+\n",
      "|C1       |file1.csv  |cs1      |2025-07-13|day1|\n",
      "|C1       |file2.csv  |cs2      |2025-07-13|day1|\n",
      "|C1       |file3.csv  |cs3      |2025-07-13|day1|\n",
      "|C2       |report.csv |cs4      |2025-07-13|day1|\n",
      "|C2       |summary.csv|cs5      |2025-07-13|day1|\n",
      "|C3       |upload1.csv|cs6      |2025-07-13|day1|\n",
      "|C3       |upload2.csv|cs7      |2025-07-13|day1|\n",
      "|C4       |a.csv      |cs8      |2025-07-13|day1|\n",
      "|C4       |b.csv      |cs9      |2025-07-13|day1|\n",
      "|C5       |test1.csv  |cs10     |2025-07-13|day1|\n",
      "|C5       |test2.csv  |cs11     |2025-07-13|day1|\n",
      "|C1       |file1.csv  |cs1      |2025-07-14|day2|\n",
      "|C1       |file4.csv  |cs12     |2025-07-14|day2|\n",
      "|C2       |report.csv |cs13     |2025-07-14|day2|\n",
      "|C2       |summary.csv|cs14     |2025-07-14|day2|\n",
      "|C3       |new1.csv   |cs6      |2025-07-14|day2|\n",
      "|C3       |new2.csv   |cs7      |2025-07-14|day2|\n",
      "|C4       |c.csv      |cs15     |2025-07-14|day2|\n",
      "|C4       |d.csv      |cs16     |2025-07-14|day2|\n",
      "|C5       |test3.csv  |cs17     |2025-07-14|day2|\n",
      "+---------+-----------+---------+----------+----+\n",
      "only showing top 20 rows\n",
      "\n"
     ]
    }
   ],
   "execution_count": 26
  },
  {
   "metadata": {
    "ExecuteTime": {
     "end_time": "2025-07-14T04:36:36.175390Z",
     "start_time": "2025-07-14T04:36:35.960545Z"
    }
   },
   "cell_type": "code",
   "source": [
    "# 2. Pivot by day and collect check_sums as arrays\n",
    "grouped_df = (\n",
    "    combined_df\n",
    "    .groupBy(\"client_id\")\n",
    "    .pivot(\"day\", [\"day1\", \"day2\"])\n",
    "    .agg(collect_list(\"check_sum\").alias(\"check_sums\"))\n",
    ")\n",
    "\n",
    "grouped_df.show(truncate=False)"
   ],
   "id": "dda9f779a67abbc",
   "outputs": [
    {
     "name": "stdout",
     "output_type": "stream",
     "text": [
      "+---------+---------------+------------+\n",
      "|client_id|day1           |day2        |\n",
      "+---------+---------------+------------+\n",
      "|C1       |[cs1, cs2, cs3]|[cs1, cs12] |\n",
      "|C2       |[cs4, cs5]     |[cs13, cs14]|\n",
      "|C3       |[cs6, cs7]     |[cs6, cs7]  |\n",
      "|C4       |[cs8, cs9]     |[cs15, cs16]|\n",
      "|C5       |[cs10, cs11]   |[cs17]      |\n",
      "|C6       |[]             |[cs18, cs19]|\n",
      "+---------+---------------+------------+\n",
      "\n"
     ]
    }
   ],
   "execution_count": 28
  },
  {
   "metadata": {
    "ExecuteTime": {
     "end_time": "2025-07-14T04:36:53.624492Z",
     "start_time": "2025-07-14T04:36:53.455915Z"
    }
   },
   "cell_type": "code",
   "source": [
    "# 3. Filter for clients who have at least 2 check_sums on both days\n",
    "regular_candidates = (\n",
    "    grouped_df\n",
    "    .filter(\n",
    "        (size(col(\"day1\")) >= 2) &\n",
    "        (size(col(\"day2\")) >= 2)\n",
    "    )\n",
    ")\n",
    "\n",
    "regular_candidates.show(truncate=False)"
   ],
   "id": "13d985921acfbce8",
   "outputs": [
    {
     "name": "stdout",
     "output_type": "stream",
     "text": [
      "+---------+---------------+------------+\n",
      "|client_id|day1           |day2        |\n",
      "+---------+---------------+------------+\n",
      "|C1       |[cs1, cs2, cs3]|[cs1, cs12] |\n",
      "|C2       |[cs4, cs5]     |[cs13, cs14]|\n",
      "|C3       |[cs6, cs7]     |[cs6, cs7]  |\n",
      "|C4       |[cs8, cs9]     |[cs15, cs16]|\n",
      "+---------+---------------+------------+\n",
      "\n"
     ]
    }
   ],
   "execution_count": 29
  },
  {
   "metadata": {
    "ExecuteTime": {
     "end_time": "2025-07-14T04:39:38.882739Z",
     "start_time": "2025-07-14T04:39:38.666902Z"
    }
   },
   "cell_type": "code",
   "source": [
    "# 4. Identify differences and regular clients\n",
    "regular_clients = (\n",
    "    regular_candidates\n",
    "    .withColumn(\"diff\", array_except(col(\"day2\"), col(\"day1\")))\n",
    "    .withColumn(\"is_regular\", when(size(col(\"diff\")) >= 2, True).otherwise(False))\n",
    ")\n",
    "\n",
    "regular_clients.show(truncate=False)"
   ],
   "id": "adcc5d5df12524d0",
   "outputs": [
    {
     "name": "stdout",
     "output_type": "stream",
     "text": [
      "+---------+---------------+------------+------------+----------+\n",
      "|client_id|day1           |day2        |diff        |is_regular|\n",
      "+---------+---------------+------------+------------+----------+\n",
      "|C1       |[cs1, cs2, cs3]|[cs1, cs12] |[cs12]      |false     |\n",
      "|C2       |[cs4, cs5]     |[cs13, cs14]|[cs13, cs14]|true      |\n",
      "|C3       |[cs6, cs7]     |[cs6, cs7]  |[]          |false     |\n",
      "|C4       |[cs8, cs9]     |[cs15, cs16]|[cs15, cs16]|true      |\n",
      "+---------+---------------+------------+------------+----------+\n",
      "\n"
     ]
    }
   ],
   "execution_count": 34
  },
  {
   "metadata": {
    "ExecuteTime": {
     "end_time": "2025-07-14T04:38:19.573736Z",
     "start_time": "2025-07-14T04:38:19.337560Z"
    }
   },
   "cell_type": "code",
   "source": [
    "# 5. final result\n",
    "regular_clients.select(\"client_id\", \"day1\", \"day2\", \"diff\", \"is_regular\").show(truncate=False)"
   ],
   "id": "3b79a9eb5797a2fa",
   "outputs": [
    {
     "name": "stdout",
     "output_type": "stream",
     "text": [
      "+---------+---------------+------------+------------+----------+\n",
      "|client_id|day1           |day2        |diff        |is_regular|\n",
      "+---------+---------------+------------+------------+----------+\n",
      "|C1       |[cs1, cs2, cs3]|[cs1, cs12] |[cs12]      |false     |\n",
      "|C2       |[cs4, cs5]     |[cs13, cs14]|[cs13, cs14]|true      |\n",
      "|C3       |[cs6, cs7]     |[cs6, cs7]  |[]          |false     |\n",
      "|C4       |[cs8, cs9]     |[cs15, cs16]|[cs15, cs16]|true      |\n",
      "+---------+---------------+------------+------------+----------+\n",
      "\n"
     ]
    }
   ],
   "execution_count": 32
  }
 ],
 "metadata": {
  "kernelspec": {
   "display_name": "Python 3",
   "language": "python",
   "name": "python3"
  },
  "language_info": {
   "codemirror_mode": {
    "name": "ipython",
    "version": 3
   },
   "file_extension": ".py",
   "mimetype": "text/x-python",
   "name": "python",
   "nbconvert_exporter": "python",
   "pygments_lexer": "ipython3",
   "version": "3.9.6"
  }
 },
 "nbformat": 4,
 "nbformat_minor": 5
}
