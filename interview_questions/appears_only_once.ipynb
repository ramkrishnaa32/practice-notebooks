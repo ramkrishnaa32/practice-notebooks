{
 "cells": [
  {
   "cell_type": "code",
   "id": "5a44ef60",
   "metadata": {
    "ExecuteTime": {
     "end_time": "2025-07-12T07:46:36.384272Z",
     "start_time": "2025-07-12T07:46:35.922955Z"
    }
   },
   "source": [
    "from pyspark.sql import SparkSession\n",
    "from pyspark.sql.functions import *\n",
    "\n",
    "spark = SparkSession.builder.appName(\"AppearsOnlyOnce\").getOrCreate()"
   ],
   "outputs": [],
   "execution_count": 2
  },
  {
   "cell_type": "code",
   "id": "1d6b108c",
   "metadata": {
    "ExecuteTime": {
     "end_time": "2025-07-12T07:46:39.119919Z",
     "start_time": "2025-07-12T07:46:36.389490Z"
    }
   },
   "source": [
    "# Filtering & Transformation: Given a DataFrame, how do you filter out rows where a column value appears only once?\n",
    "\n",
    "data = [\n",
    "    (1, \"A\"),\n",
    "    (2, \"B\"),\n",
    "    (3, \"A\"),\n",
    "    (4, \"C\"),\n",
    "    (5, \"D\"),\n",
    "    (6, \"B\"),\n",
    "    (7, \"E\")\n",
    "]\n",
    "columns = [\"id\", \"group\"]\n",
    "\n",
    "df = spark.createDataFrame(data, columns)\n",
    "df.show()"
   ],
   "outputs": [
    {
     "name": "stderr",
     "output_type": "stream",
     "text": [
      "                                                                                \r"
     ]
    },
    {
     "name": "stdout",
     "output_type": "stream",
     "text": [
      "+---+-----+\n",
      "| id|group|\n",
      "+---+-----+\n",
      "|  1|    A|\n",
      "|  2|    B|\n",
      "|  3|    A|\n",
      "|  4|    C|\n",
      "|  5|    D|\n",
      "|  6|    B|\n",
      "|  7|    E|\n",
      "+---+-----+\n",
      "\n"
     ]
    }
   ],
   "execution_count": 3
  },
  {
   "cell_type": "code",
   "execution_count": 8,
   "id": "2e1474c7",
   "metadata": {},
   "outputs": [
    {
     "name": "stdout",
     "output_type": "stream",
     "text": [
      "+-----+-----+\n",
      "|group|count|\n",
      "+-----+-----+\n",
      "|    C|    1|\n",
      "|    D|    1|\n",
      "|    E|    1|\n",
      "+-----+-----+\n",
      "\n"
     ]
    }
   ],
   "source": [
    "df_grouped = df.groupBy(\"group\").count().filter(col(\"count\") == 1)\n",
    "df_grouped.show()\n"
   ]
  },
  {
   "cell_type": "code",
   "execution_count": 9,
   "id": "4dcda705",
   "metadata": {},
   "outputs": [
    {
     "name": "stdout",
     "output_type": "stream",
     "text": [
      "+---+-----+\n",
      "| id|group|\n",
      "+---+-----+\n",
      "|  4|    C|\n",
      "|  5|    D|\n",
      "|  7|    E|\n",
      "+---+-----+\n",
      "\n"
     ]
    }
   ],
   "source": [
    "df.join(df_grouped, on=\"group\", how=\"inner\").select(df[\"*\"]).show()"
   ]
  },
  {
   "cell_type": "code",
   "execution_count": null,
   "id": "c8779a12",
   "metadata": {},
   "outputs": [],
   "source": []
  }
 ],
 "metadata": {
  "kernelspec": {
   "display_name": "Python 3",
   "language": "python",
   "name": "python3"
  },
  "language_info": {
   "codemirror_mode": {
    "name": "ipython",
    "version": 3
   },
   "file_extension": ".py",
   "mimetype": "text/x-python",
   "name": "python",
   "nbconvert_exporter": "python",
   "pygments_lexer": "ipython3",
   "version": "3.9.6"
  }
 },
 "nbformat": 4,
 "nbformat_minor": 5
}
