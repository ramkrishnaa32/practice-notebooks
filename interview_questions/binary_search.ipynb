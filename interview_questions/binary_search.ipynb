{
 "cells": [
  {
   "cell_type": "code",
   "execution_count": 5,
   "id": "35b3092f",
   "metadata": {},
   "outputs": [],
   "source": [
    "def binary_search(arr, target):\n",
    "    sorted_arr = sorted(arr)\n",
    "    print(f\"Sorted array: {sorted_arr}\")\n",
    "\n",
    "    start_index = 0\n",
    "    end_index = len(sorted_arr) - 1\n",
    "\n",
    "    while start_index <= end_index:\n",
    "        mid_index = (start_index + end_index) // 2\n",
    "        mid_value = sorted_arr[mid_index]\n",
    "\n",
    "        if target == mid_value:\n",
    "            return {\"index\": mid_index, \"value\": mid_value}\n",
    "        elif target > mid_value:\n",
    "            start_index = mid_index + 1\n",
    "        else:\n",
    "            end_index = mid_index - 1\n",
    "    \n",
    "    return False"
   ]
  },
  {
   "cell_type": "code",
   "execution_count": 8,
   "id": "7f72424e",
   "metadata": {},
   "outputs": [
    {
     "name": "stdout",
     "output_type": "stream",
     "text": [
      "Sorted array: [2, 3, 5, 6, 8]\n",
      "Found target at index 3 with value 6\n"
     ]
    }
   ],
   "source": [
    "numbers = [5, 3, 8, 6, 2]\n",
    "target_value = 6\n",
    "result = binary_search(numbers, target_value)\n",
    "if  result:\n",
    "    print(f\"Found target at index {result['index']} with value {result['value']}\")\n",
    "else:\n",
    "    print(f\"Target {target_value} not found in the array.\")"
   ]
  }
 ],
 "metadata": {
  "kernelspec": {
   "display_name": "Python 3",
   "language": "python",
   "name": "python3"
  },
  "language_info": {
   "codemirror_mode": {
    "name": "ipython",
    "version": 3
   },
   "file_extension": ".py",
   "mimetype": "text/x-python",
   "name": "python",
   "nbconvert_exporter": "python",
   "pygments_lexer": "ipython3",
   "version": "3.9.6"
  }
 },
 "nbformat": 4,
 "nbformat_minor": 5
}
