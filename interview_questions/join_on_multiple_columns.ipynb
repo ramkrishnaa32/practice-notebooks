{
 "cells": [
  {
   "cell_type": "code",
   "execution_count": 2,
   "id": "bcee2b48",
   "metadata": {},
   "outputs": [
    {
     "name": "stderr",
     "output_type": "stream",
     "text": [
      "25/06/30 10:24:32 WARN SparkSession: Using an existing Spark session; only runtime SQL configurations will take effect.\n"
     ]
    }
   ],
   "source": [
    "from pyspark.sql import SparkSession\n",
    "from pyspark.sql.functions import *\n",
    "\n",
    "\n",
    "spark = SparkSession.builder.appName(\"JoinOnMultipleColumns\").getOrCreate()"
   ]
  },
  {
   "cell_type": "code",
   "execution_count": 3,
   "id": "f9220de1",
   "metadata": {},
   "outputs": [
    {
     "name": "stderr",
     "output_type": "stream",
     "text": [
      "                                                                                \r"
     ]
    },
    {
     "name": "stdout",
     "output_type": "stream",
     "text": [
      "+---+-------+-------+\n",
      "| id|   name|   dept|\n",
      "+---+-------+-------+\n",
      "|  1|  Alice|     HR|\n",
      "|  2|    Bob|     IT|\n",
      "|  3|Charlie|Finance|\n",
      "|  4|  David|     IT|\n",
      "+---+-------+-------+\n",
      "\n"
     ]
    }
   ],
   "source": [
    "# First DataFrame: df1\n",
    "data1 = [\n",
    "    (1, \"Alice\", \"HR\"),\n",
    "    (2, \"Bob\", \"IT\"),\n",
    "    (3, \"Charlie\", \"Finance\"),\n",
    "    (4, \"David\", \"IT\")\n",
    "]\n",
    "columns1 = [\"id\", \"name\", \"dept\"]\n",
    "\n",
    "df1 = spark.createDataFrame(data1, columns1)\n",
    "\n",
    "df1.show()"
   ]
  },
  {
   "cell_type": "code",
   "execution_count": 4,
   "id": "56883630",
   "metadata": {},
   "outputs": [
    {
     "name": "stdout",
     "output_type": "stream",
     "text": [
      "+------+---------+------+\n",
      "|emp_id|     dept|salary|\n",
      "+------+---------+------+\n",
      "|     1|       HR|  5000|\n",
      "|     2|       IT|  6000|\n",
      "|     3|  Finance|  7000|\n",
      "|     5|Marketing|  8000|\n",
      "+------+---------+------+\n",
      "\n"
     ]
    }
   ],
   "source": [
    "# Second DataFrame: df2\n",
    "data2 = [\n",
    "    (1, \"HR\", 5000),\n",
    "    (2, \"IT\", 6000),\n",
    "    (3, \"Finance\", 7000),\n",
    "    (5, \"Marketing\", 8000)\n",
    "]\n",
    "columns2 = [\"emp_id\", \"dept\", \"salary\"]\n",
    "\n",
    "df2 = spark.createDataFrame(data2, columns2)\n",
    "\n",
    "df2.show()"
   ]
  },
  {
   "cell_type": "code",
   "execution_count": 5,
   "id": "aa4eb721",
   "metadata": {},
   "outputs": [
    {
     "name": "stdout",
     "output_type": "stream",
     "text": [
      "+---+-------+-------+------+-------+------+\n",
      "| id|   name|   dept|emp_id|   dept|salary|\n",
      "+---+-------+-------+------+-------+------+\n",
      "|  3|Charlie|Finance|     3|Finance|  7000|\n",
      "|  1|  Alice|     HR|     1|     HR|  5000|\n",
      "|  2|    Bob|     IT|     2|     IT|  6000|\n",
      "+---+-------+-------+------+-------+------+\n",
      "\n"
     ]
    }
   ],
   "source": [
    "df_joined = df1.join(df2, (df1.dept == df2.dept) & (df1.id == df2.emp_id), \"inner\")\n",
    "df_joined.show()"
   ]
  }
 ],
 "metadata": {
  "kernelspec": {
   "display_name": "Python 3",
   "language": "python",
   "name": "python3"
  },
  "language_info": {
   "codemirror_mode": {
    "name": "ipython",
    "version": 3
   },
   "file_extension": ".py",
   "mimetype": "text/x-python",
   "name": "python",
   "nbconvert_exporter": "python",
   "pygments_lexer": "ipython3",
   "version": "3.9.6"
  }
 },
 "nbformat": 4,
 "nbformat_minor": 5
}
