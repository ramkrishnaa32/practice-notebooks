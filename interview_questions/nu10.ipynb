{
 "cells": [
  {
   "cell_type": "code",
   "execution_count": 1,
   "id": "a9d48536",
   "metadata": {},
   "outputs": [
    {
     "name": "stderr",
     "output_type": "stream",
     "text": [
      "25/06/09 23:08:02 WARN Utils: Your hostname, Rams-MacBook-Pro.local resolves to a loopback address: 127.0.0.1; using 192.168.1.3 instead (on interface en0)\n",
      "25/06/09 23:08:02 WARN Utils: Set SPARK_LOCAL_IP if you need to bind to another address\n",
      "Setting default log level to \"WARN\".\n",
      "To adjust logging level use sc.setLogLevel(newLevel). For SparkR, use setLogLevel(newLevel).\n",
      "25/06/09 23:08:03 WARN NativeCodeLoader: Unable to load native-hadoop library for your platform... using builtin-java classes where applicable\n",
      "25/06/09 23:08:03 WARN Utils: Service 'SparkUI' could not bind on port 4040. Attempting port 4041.\n"
     ]
    }
   ],
   "source": [
    "from pyspark.sql import SparkSession\n",
    "spark = SparkSession.builder.appName(\"test\").getOrCreate()"
   ]
  },
  {
   "cell_type": "code",
   "execution_count": 2,
   "id": "e47e77da",
   "metadata": {},
   "outputs": [],
   "source": [
    "lines = [\n",
    "\"Write a function that takes a string as input and returns a list of characters that appear twice consecutively in the string\", \n",
    "\"Write a function that takes a string as input and returns a list of characters that appear twice consecutively in the string\",\n",
    "\"Write a function that takes a string as input and returns a list of characters that appear twice consecutively in the string\"\n",
    "]"
   ]
  },
  {
   "cell_type": "code",
   "execution_count": 3,
   "id": "ea2809ec",
   "metadata": {},
   "outputs": [
    {
     "name": "stderr",
     "output_type": "stream",
     "text": [
      "                                                                                \r"
     ]
    },
    {
     "data": {
      "text/plain": [
       "[('a', 9), ('that', 6), ('string', 6), ('input', 3), ('of', 3)]"
      ]
     },
     "execution_count": 3,
     "metadata": {},
     "output_type": "execute_result"
    }
   ],
   "source": [
    "rdd = spark.sparkContext.parallelize(lines)\n",
    "words = rdd.flatMap(lambda x: x.split(\" \")).map(lambda x: (x, 1)).reduceByKey(lambda x,y: x+y)\n",
    "words.sortBy(lambda x:x[1], False).take(5)"
   ]
  },
  {
   "cell_type": "code",
   "execution_count": null,
   "id": "5420f319",
   "metadata": {},
   "outputs": [],
   "source": [
    "\"\"\"\n",
    "Question 2:\n",
    "Write a function that takes a string as input and returns a list of characters that appear twice consecutively in the string.\n",
    "\n",
    "For example:\n",
    "Input: \"apple\" → Output: [\"p\"]\n",
    "Input: \"committee\" → Output: [\"m\", \"t\"]\n",
    "The function should only return the characters that appear exactly two times in a row, not elsewhere in the string.\n",
    "\"\"\""
   ]
  },
  {
   "cell_type": "code",
   "execution_count": 41,
   "id": "5f4a2398",
   "metadata": {},
   "outputs": [],
   "source": [
    "def repeatedChar(word):\n",
    "    result = []\n",
    "    for i in range(len(word) -1):\n",
    "        if word[i] == word[i+1]:\n",
    "            if word[i] not in result:\n",
    "                result.append(word[i])\n",
    "    return result"
   ]
  },
  {
   "cell_type": "code",
   "execution_count": 42,
   "id": "00c26f3a",
   "metadata": {},
   "outputs": [
    {
     "name": "stdout",
     "output_type": "stream",
     "text": [
      "['p']\n"
     ]
    }
   ],
   "source": [
    "res = repeatedChar(\"apple\")\n",
    "print(res)"
   ]
  },
  {
   "cell_type": "code",
   "execution_count": 43,
   "id": "f0d25cb8",
   "metadata": {},
   "outputs": [
    {
     "name": "stdout",
     "output_type": "stream",
     "text": [
      "['m', 't', 'e']\n"
     ]
    }
   ],
   "source": [
    "res = repeatedChar(\"commmittee\")\n",
    "print(res)"
   ]
  },
  {
   "cell_type": "code",
   "execution_count": 1,
   "id": "a4b714e8",
   "metadata": {},
   "outputs": [
    {
     "ename": "SyntaxError",
     "evalue": "invalid syntax (<ipython-input-1-43d0d25f2bba>, line 1)",
     "output_type": "error",
     "traceback": [
      "\u001b[0;36m  File \u001b[0;32m\"<ipython-input-1-43d0d25f2bba>\"\u001b[0;36m, line \u001b[0;32m1\u001b[0m\n\u001b[0;31m    select *\u001b[0m\n\u001b[0m             ^\u001b[0m\n\u001b[0;31mSyntaxError\u001b[0m\u001b[0;31m:\u001b[0m invalid syntax\n"
     ]
    }
   ],
   "source": [
    "# emp_table\n",
    "# id, dept_name, emp_name, salary\n",
    "# Top 3 highest earning emp in each department\n",
    "\n",
    "\"\"\"\n",
    "-- Using CTE with DENSE_RANK (handles ties properly)\n",
    "WITH salary_ranked AS (\n",
    "    SELECT \n",
    "        id, \n",
    "        dept_name, \n",
    "        emp_name, \n",
    "        salary,\n",
    "        DENSE_RANK() OVER (PARTITION BY dept_name ORDER BY salary DESC) as salary_rank\n",
    "    FROM emp\n",
    ")\n",
    "SELECT \n",
    "    id, \n",
    "    dept_name, \n",
    "    emp_name, \n",
    "    salary\n",
    "FROM salary_ranked\n",
    "WHERE salary_rank <= 3\n",
    "ORDER BY dept_name, salary_rank;\n",
    "\n",
    "\"\"\"\n",
    "\n",
    "\"\"\"\n",
    "SELECT * \n",
    "FROM (\n",
    "    SELECT \n",
    "        id, \n",
    "        dept_name, \n",
    "        emp_name, \n",
    "        salary,\n",
    "        DENSE_RANK() OVER (PARTITION BY dept_name ORDER BY salary DESC) as salary_rank\n",
    "    FROM emp\n",
    ") as temp\n",
    "WHERE salary_rank <= 3\n",
    "ORDER BY dept_name, salary_rank;\n",
    "\n",
    "\"\"\"\n"
   ]
  }
 ],
 "metadata": {
  "kernelspec": {
   "display_name": "Python 3",
   "language": "python",
   "name": "python3"
  },
  "language_info": {
   "codemirror_mode": {
    "name": "ipython",
    "version": 3
   },
   "file_extension": ".py",
   "mimetype": "text/x-python",
   "name": "python",
   "nbconvert_exporter": "python",
   "pygments_lexer": "ipython3",
   "version": "3.9.6"
  }
 },
 "nbformat": 4,
 "nbformat_minor": 5
}
