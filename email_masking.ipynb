{
 "cells": [
  {
   "cell_type": "code",
   "execution_count": null,
   "id": "a9d48536",
   "metadata": {},
   "outputs": [
    {
     "name": "stderr",
     "output_type": "stream",
     "text": [
      "25/06/07 14:52:10 WARN Utils: Your hostname, Rams-MacBook-Pro.local resolves to a loopback address: 127.0.0.1; using 192.168.1.2 instead (on interface en0)\n",
      "25/06/07 14:52:10 WARN Utils: Set SPARK_LOCAL_IP if you need to bind to another address\n",
      "Setting default log level to \"WARN\".\n",
      "To adjust logging level use sc.setLogLevel(newLevel). For SparkR, use setLogLevel(newLevel).\n",
      "25/06/07 14:52:10 WARN NativeCodeLoader: Unable to load native-hadoop library for your platform... using builtin-java classes where applicable\n"
     ]
    }
   ],
   "source": [
    "from pyspark.sql import SparkSession\n",
    "from pyspark.sql.functions import *\n",
    "from pyspark.sql.types import StructType, StructField, IntegerType, StringType\n",
    "\n",
    "# Create a Spark session\n",
    "spark = SparkSession.builder.appName(\"test\").getOrCreate()"
   ]
  },
  {
   "cell_type": "code",
   "execution_count": null,
   "id": "e47e77da",
   "metadata": {},
   "outputs": [],
   "source": [
    "data = [\n",
    "    (101, \"ramkrishnaa32@gmail.com\"),\n",
    "    (102, \"ramkrishnaa_32@gmail.com\"),\n",
    "    (103, \"ramkrishna.achary@gmail.com\")\n",
    "]"
   ]
  },
  {
   "cell_type": "code",
   "execution_count": null,
   "id": "6dcd7194",
   "metadata": {},
   "outputs": [],
   "source": [
    "schema = StructType([\n",
    "    StructField(\"Id\", IntegerType(), True),\n",
    "    StructField(\"email\", StringType(), True)\n",
    "])"
   ]
  },
  {
   "cell_type": "code",
   "execution_count": null,
   "id": "4cf3aa2a",
   "metadata": {},
   "outputs": [],
   "source": [
    "# Create DataFrame\n",
    "df = spark.createDataFrame(data, schema)\n",
    "df.show(truncate=False)"
   ]
  },
  {
   "cell_type": "code",
   "execution_count": null,
   "id": "1cab8ca5",
   "metadata": {},
   "outputs": [],
   "source": [
    "# Split the email into username and domain\n",
    "df = df.withColumn(\"username\", split(col(\"email\"), \"@\").getItem(0)) \\\n",
    "       .withColumn(\"domain\", split(col(\"email\"), \"@\").getItem(1))\n",
    "\n",
    "df.show(truncate=False)"
   ]
  },
  {
   "cell_type": "code",
   "execution_count": null,
   "id": "2d5f9e7d",
   "metadata": {},
   "outputs": [],
   "source": [
    "df = df.withColumn(\"masked_email\", \n",
    "                   expr(\"repeat('*', length(username)) || '@' || domain\"))\n",
    "df.show(truncate=False)"
   ]
  },
  {
   "cell_type": "code",
   "execution_count": null,
   "id": "94ad89cb",
   "metadata": {},
   "outputs": [],
   "source": [
    "df_new = df.withColumn(\"masked_email\", expr(\"\"\"\n",
    "    CASE \n",
    "        WHEN length(username) <= 5 THEN repeat('*', length(username))\n",
    "        ELSE concat(\n",
    "            substring(username, 1, 2),\n",
    "            repeat('*', length(username) - 3),\n",
    "            substring(username, -2),\n",
    "            '@',\n",
    "            domain\n",
    "        )\n",
    "    END\n",
    "\"\"\"))\n",
    "\n",
    "df_new.show(truncate=False)"
   ]
  }
 ],
 "metadata": {
  "kernelspec": {
   "display_name": "Python 3",
   "language": "python",
   "name": "python3"
  },
  "language_info": {
   "codemirror_mode": {
    "name": "ipython",
    "version": 3
   },
   "file_extension": ".py",
   "mimetype": "text/x-python",
   "name": "python",
   "nbconvert_exporter": "python",
   "pygments_lexer": "ipython3",
   "version": "3.9.6"
  }
 },
 "nbformat": 4,
 "nbformat_minor": 5
}
